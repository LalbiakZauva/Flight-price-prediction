{
 "cells": [
  {
   "cell_type": "code",
   "execution_count": 27,
   "id": "260da315",
   "metadata": {},
   "outputs": [],
   "source": [
    "# importing necessary libraries\n",
    "import selenium\n",
    "from selenium import webdriver\n",
    "from selenium.webdriver.common.by import By\n",
    "import pandas as pd\n",
    "import numpy as np\n",
    "import time\n",
    "import re\n",
    "import requests\n",
    "from selenium.common.exceptions import NoSuchElementException\n",
    "\n",
    "import warnings\n",
    "warnings.filterwarnings('ignore')"
   ]
  },
  {
   "cell_type": "code",
   "execution_count": 436,
   "id": "bc9da90d",
   "metadata": {},
   "outputs": [],
   "source": [
    "# running webdriver\n",
    "driver = webdriver.Chrome(r'C:\\Users\\HP\\chromedriver_win32\\chromedriver.exe')\n",
    "\n",
    "# getting the url\n",
    "url = 'https://www.makemytrip.com/'\n",
    "driver.get(url)\n",
    "driver.maximize_window()"
   ]
  },
  {
   "cell_type": "markdown",
   "id": "aca63df6",
   "metadata": {},
   "source": [
    "## 1. Delhi to Bangalore"
   ]
  },
  {
   "cell_type": "code",
   "execution_count": 437,
   "id": "b998e4f7",
   "metadata": {},
   "outputs": [],
   "source": [
    "from1 = driver.find_element(By.XPATH,'/html/body/div[1]/div/div[2]/div/div/div[2]/div[1]/div[1]/label/span')\n",
    "from1.click()"
   ]
  },
  {
   "cell_type": "code",
   "execution_count": 438,
   "id": "552c1426",
   "metadata": {},
   "outputs": [],
   "source": [
    "From1 = driver.find_element(By.XPATH,'/html/body/div[1]/div/div[2]/div/div/div[2]/div[1]/div[1]/div[1]/div/div/div/input')\n",
    "From1.send_keys('Delhi')"
   ]
  },
  {
   "cell_type": "code",
   "execution_count": 439,
   "id": "0cc9d9b4",
   "metadata": {},
   "outputs": [],
   "source": [
    "from1_click = driver.find_element(By.XPATH,'//div[@class=\"calc60\"]')\n",
    "from1_click.click()"
   ]
  },
  {
   "cell_type": "code",
   "execution_count": 440,
   "id": "be5118e1",
   "metadata": {},
   "outputs": [],
   "source": [
    "to1 = driver.find_element(By.XPATH,'/html/body/div[1]/div/div[2]/div/div/div[2]/div[1]/div[2]/label/span')\n",
    "to1.click()"
   ]
  },
  {
   "cell_type": "code",
   "execution_count": 441,
   "id": "db12437e",
   "metadata": {},
   "outputs": [],
   "source": [
    "To1 = driver.find_element(By.XPATH,'/html/body/div[1]/div/div[2]/div/div/div[2]/div[1]/div[2]/div[1]/div/div/div[1]/input')\n",
    "To1.send_keys('Bangalore')"
   ]
  },
  {
   "cell_type": "code",
   "execution_count": 442,
   "id": "42043dc3",
   "metadata": {},
   "outputs": [],
   "source": [
    "To1_click = driver.find_element(By.XPATH,'//div[@class=\"calc60\"]')\n",
    "To1_click.click()"
   ]
  },
  {
   "cell_type": "code",
   "execution_count": 443,
   "id": "edfd816b",
   "metadata": {},
   "outputs": [],
   "source": [
    "search1 = driver.find_element(By.XPATH,'/html/body/div[1]/div/div[2]/div/div/div[2]/p/a')\n",
    "search1.click()"
   ]
  },
  {
   "cell_type": "markdown",
   "id": "89653f2f",
   "metadata": {},
   "source": [
    "## 30 sept"
   ]
  },
  {
   "cell_type": "code",
   "execution_count": 445,
   "id": "541dd63a",
   "metadata": {},
   "outputs": [],
   "source": [
    "date2b = driver.find_element(By.ID,\"departure\")\n",
    "date2b.click()"
   ]
  },
  {
   "cell_type": "code",
   "execution_count": 448,
   "id": "6f245342",
   "metadata": {},
   "outputs": [],
   "source": [
    "dates2c = driver.find_element(By.XPATH,'//div[@class=\"DayPicker-Months\"]/div[1]/div[3]/div[5]/div[6]/div/p[1]')\n",
    "dates2c.click()"
   ]
  },
  {
   "cell_type": "code",
   "execution_count": 449,
   "id": "532f8633",
   "metadata": {},
   "outputs": [],
   "source": [
    "search2c = driver.find_element(By.XPATH,'/html/body/div[1]/div/div[2]/header/div[1]/div/button')\n",
    "search2c.click()"
   ]
  },
  {
   "cell_type": "code",
   "execution_count": 458,
   "id": "70ae7852",
   "metadata": {},
   "outputs": [],
   "source": [
    "airline1 = []\n",
    "airline1_ = driver.find_elements(By.XPATH,'//p[@class=\"boldFont blackText airlineName\"]')\n",
    "for i in airline1_:\n",
    "    airline1.append(i.text)\n",
    "for _ in range(100):\n",
    "    driver.execute_script(\"window.scrollBy(0,100)\")\n",
    "    \n",
    "# code\n",
    "code1 = []\n",
    "code1_ = driver.find_elements(By.XPATH,'//p[@class=\"fliCode\"]')\n",
    "for j in code1_:\n",
    "    code1.append(j.text)\n",
    "\n",
    "# date of journey\n",
    "date1 = []\n",
    "for i in range(len(airline1)):\n",
    "    date1.append(int(30))\n",
    "\n",
    "# month of journey\n",
    "month1 = []\n",
    "for j in range(len(airline1)):\n",
    "    month1.append(int(9))\n",
    "    \n",
    "#source\n",
    "source1 = []\n",
    "source1_ = driver.find_elements(By.XPATH,'//div[@class=\"flexOne timeInfoLeft\"]/p[2]/font')\n",
    "for k in source1_:\n",
    "    source1.append(k.text)\n",
    "    \n",
    "# destination\n",
    "dest1 = []\n",
    "dest1_ = driver.find_elements(By.XPATH,'//div[@class=\"flexOne timeInfoRight\"]/p[2]/font')\n",
    "for l in dest1_:\n",
    "    dest1.append(l.text)\n",
    "    \n",
    "# departure time\n",
    "dep_time1 = []\n",
    "dep_time1_ = driver.find_elements(By.XPATH,'//div[@class=\"flexOne timeInfoLeft\"]/p[1]/span')\n",
    "for m in dep_time1_:\n",
    "    dep_time1.append(m.text)\n",
    "    \n",
    "# arrival time\n",
    "arr_time1 = []\n",
    "arr_time1_ = driver.find_elements(By.XPATH,'//div[@class=\"flexOne timeInfoRight\"]/p[1]/span')\n",
    "for n in arr_time1_:\n",
    "    arr_time1.append(n.text)\n",
    "    \n",
    "for o in arr_time1:\n",
    "    if o=='+ 1 DAY':\n",
    "        arr_time1.remove(o)\n",
    "    \n",
    "# flight duration\n",
    "duration1 = []\n",
    "duration1_ = driver.find_elements(By.XPATH,'//div[@class=\"stop-info flexOne\"]/p')\n",
    "for p in duration1_:\n",
    "    duration1.append(p.text)\n",
    "    \n",
    "# layover\n",
    "layover1 = []\n",
    "layover1_ = driver.find_elements(By.XPATH,'//div[@class=\"stop-info flexOne\"]/div/p')\n",
    "for q in layover1_:\n",
    "    layover1.append(q.text)\n",
    "    \n",
    "# price\n",
    "price1 = []\n",
    "price1_ = driver.find_elements(By.XPATH,'//p[@class=\"blackText fontSize18 blackFont white-space-no-wrap\"]')\n",
    "for r in price1_:\n",
    "    price1.append(r.text.split( ))\n",
    "    \n",
    "Price1 = []\n",
    "for s in range(len(price1)):\n",
    "    Price1.append(eval(price1[s][1].replace(',','')))"
   ]
  },
  {
   "cell_type": "code",
   "execution_count": 459,
   "id": "693d949e",
   "metadata": {},
   "outputs": [
    {
     "name": "stdout",
     "output_type": "stream",
     "text": [
      "43 43 43 43 43 43 43 43 43 43 43\n"
     ]
    }
   ],
   "source": [
    "print(len(airline1),len(code1),len(source1),len(dest1),len(dep_time1),len(arr_time1),len(duration1),len(layover1),len(Price1),len(date1),len(month1))"
   ]
  },
  {
   "cell_type": "code",
   "execution_count": 460,
   "id": "a162eadf",
   "metadata": {},
   "outputs": [],
   "source": [
    "df1 = pd.DataFrame()\n",
    "df1['Airline'] = airline1\n",
    "df1['Airline code'] = code1\n",
    "df1['Date of journey'] = date1\n",
    "df1['Month of journey'] = month1\n",
    "df1['Source'] = source1\n",
    "df1['Destination'] = dest1\n",
    "df1['Departure time'] = dep_time1\n",
    "df1['Arrival time'] = arr_time1\n",
    "df1['Flight duration'] = duration1\n",
    "df1['Type of flight'] = layover1\n",
    "df1['Price'] = Price1"
   ]
  },
  {
   "cell_type": "markdown",
   "id": "92148c91",
   "metadata": {},
   "source": [
    "## 1st Oct"
   ]
  },
  {
   "cell_type": "code",
   "execution_count": 461,
   "id": "3c88c57a",
   "metadata": {},
   "outputs": [],
   "source": [
    "date2b = driver.find_element(By.ID,\"departure\")\n",
    "date2b.click()"
   ]
  },
  {
   "cell_type": "code",
   "execution_count": 473,
   "id": "7f6980b5",
   "metadata": {},
   "outputs": [],
   "source": [
    "dates2b = driver.find_element(By.XPATH,'//div[@class=\"DayPicker-Months\"]/div[2]/div[3]/div[1]/div[7]/div/p[1]')\n",
    "dates2b.click()"
   ]
  },
  {
   "cell_type": "code",
   "execution_count": 474,
   "id": "7937a0b6",
   "metadata": {},
   "outputs": [],
   "source": [
    "search2b = driver.find_element(By.XPATH,'/html/body/div[1]/div/div[2]/header/div[1]/div/button')\n",
    "search2b.click()"
   ]
  },
  {
   "cell_type": "code",
   "execution_count": 477,
   "id": "d37afe0b",
   "metadata": {},
   "outputs": [],
   "source": [
    "airline2 = []\n",
    "airline2_ = driver.find_elements(By.XPATH,'//p[@class=\"boldFont blackText airlineName\"]')\n",
    "for i in airline2_:\n",
    "    airline2.append(i.text)\n",
    "for _ in range(100):\n",
    "    driver.execute_script(\"window.scrollBy(0,100)\")\n",
    "    \n",
    "# code\n",
    "code2 = []\n",
    "code2_ = driver.find_elements(By.XPATH,'//p[@class=\"fliCode\"]')\n",
    "for j in code2_:\n",
    "    code2.append(j.text)\n",
    "\n",
    "# date of journey\n",
    "date2 = []\n",
    "for i in range(len(airline2)):\n",
    "    date2.append(int(1))\n",
    "\n",
    "# month of journey\n",
    "month2 = []\n",
    "for j in range(len(airline2)):\n",
    "    month2.append(int(10))\n",
    "    \n",
    "#source\n",
    "source2 = []\n",
    "source2_ = driver.find_elements(By.XPATH,'//div[@class=\"flexOne timeInfoLeft\"]/p[2]/font')\n",
    "for k in source2_:\n",
    "    source2.append(k.text)\n",
    "    \n",
    "# destination\n",
    "dest2 = []\n",
    "dest2_ = driver.find_elements(By.XPATH,'//div[@class=\"flexOne timeInfoRight\"]/p[2]/font')\n",
    "for l in dest2_:\n",
    "    dest2.append(l.text)\n",
    "    \n",
    "# departure time\n",
    "dep_time2 = []\n",
    "dep_time2_ = driver.find_elements(By.XPATH,'//div[@class=\"flexOne timeInfoLeft\"]/p[1]/span')\n",
    "for m in dep_time2_:\n",
    "    dep_time2.append(m.text)\n",
    "    \n",
    "# arrival time\n",
    "arr_time2 = []\n",
    "arr_time2_ = driver.find_elements(By.XPATH,'//div[@class=\"flexOne timeInfoRight\"]/p[1]/span')\n",
    "for n in arr_time2_:\n",
    "    arr_time2.append(n.text)\n",
    "    \n",
    "for o in arr_time2:\n",
    "    if o=='+ 1 DAY':\n",
    "        arr_time2.remove(o)\n",
    "    \n",
    "# flight duration\n",
    "duration2 = []\n",
    "duration2_ = driver.find_elements(By.XPATH,'//div[@class=\"stop-info flexOne\"]/p')\n",
    "for p in duration2_:\n",
    "    duration2.append(p.text)\n",
    "    \n",
    "# layover\n",
    "layover2 = []\n",
    "layover2_ = driver.find_elements(By.XPATH,'//div[@class=\"stop-info flexOne\"]/div/p')\n",
    "for q in layover2_:\n",
    "    layover2.append(q.text)\n",
    "    \n",
    "# price\n",
    "price2 = []\n",
    "price2_ = driver.find_elements(By.XPATH,'//p[@class=\"blackText fontSize18 blackFont white-space-no-wrap\"]')\n",
    "for r in price2_:\n",
    "    price2.append(r.text.split( ))\n",
    "    \n",
    "Price2 = []\n",
    "for s in range(len(price2)):\n",
    "    Price2.append(eval(price2[s][1].replace(',','')))"
   ]
  },
  {
   "cell_type": "code",
   "execution_count": 478,
   "id": "e8b33347",
   "metadata": {},
   "outputs": [
    {
     "name": "stdout",
     "output_type": "stream",
     "text": [
      "47 47 47 47 47 47 47 47 47 47 47\n"
     ]
    }
   ],
   "source": [
    "print(len(airline2),len(code2),len(source2),len(dest2),len(dep_time2),len(arr_time2),len(duration2),len(layover2),len(Price2),len(date2),len(month2))"
   ]
  },
  {
   "cell_type": "code",
   "execution_count": 479,
   "id": "2590a7da",
   "metadata": {},
   "outputs": [],
   "source": [
    "df2 = pd.DataFrame()\n",
    "df2['Airline'] = airline2\n",
    "df2['Airline code'] = code2\n",
    "df2['Date of journey'] = date2\n",
    "df2['Month of journey'] = month2\n",
    "df2['Source'] = source2\n",
    "df2['Destination'] = dest2\n",
    "df2['Departure time'] = dep_time2\n",
    "df2['Arrival time'] = arr_time2\n",
    "df2['Flight duration'] = duration2\n",
    "df2['Type of flight'] = layover2\n",
    "df2['Price'] = Price2"
   ]
  },
  {
   "cell_type": "markdown",
   "id": "8103e3bf",
   "metadata": {},
   "source": [
    "## 2nd Oct"
   ]
  },
  {
   "cell_type": "code",
   "execution_count": 483,
   "id": "bacce60e",
   "metadata": {},
   "outputs": [],
   "source": [
    "date2b = driver.find_element(By.ID,\"departure\")\n",
    "date2b.click()"
   ]
  },
  {
   "cell_type": "code",
   "execution_count": 485,
   "id": "3f7b3de5",
   "metadata": {},
   "outputs": [],
   "source": [
    "dates2b = driver.find_element(By.XPATH,'//div[@class=\"DayPicker-Months\"]/div[1]/div[3]/div[2]/div[1]/div/p[1]')\n",
    "dates2b.click()"
   ]
  },
  {
   "cell_type": "code",
   "execution_count": 486,
   "id": "12f7de7b",
   "metadata": {},
   "outputs": [],
   "source": [
    "search2b = driver.find_element(By.XPATH,'/html/body/div[1]/div/div[2]/header/div[1]/div/button')\n",
    "search2b.click()"
   ]
  },
  {
   "cell_type": "code",
   "execution_count": 490,
   "id": "00483fa7",
   "metadata": {},
   "outputs": [],
   "source": [
    "airline3 = []\n",
    "airline3_ = driver.find_elements(By.XPATH,'//p[@class=\"boldFont blackText airlineName\"]')\n",
    "for i in airline3_:\n",
    "    airline3.append(i.text)\n",
    "for _ in range(100):\n",
    "    driver.execute_script(\"window.scrollBy(0,100)\")\n",
    "    \n",
    "# code\n",
    "code3 = []\n",
    "code3_ = driver.find_elements(By.XPATH,'//p[@class=\"fliCode\"]')\n",
    "for j in code3_:\n",
    "    code3.append(j.text)\n",
    "    \n",
    "# date of journey\n",
    "date3 = []\n",
    "for i in range(len(airline3)):\n",
    "    date3.append(int(2))\n",
    "\n",
    "# month of journey\n",
    "month3 = []\n",
    "for j in range(len(airline3)):\n",
    "    month3.append(int(10))\n",
    "    \n",
    "#source\n",
    "source3 = []\n",
    "source3_ = driver.find_elements(By.XPATH,'//div[@class=\"flexOne timeInfoLeft\"]/p[2]/font')\n",
    "for k in source3_:\n",
    "    source3.append(k.text)\n",
    "    \n",
    "# destination\n",
    "dest3 = []\n",
    "dest3_ = driver.find_elements(By.XPATH,'//div[@class=\"flexOne timeInfoRight\"]/p[2]/font')\n",
    "for l in dest3_:\n",
    "    dest3.append(l.text)\n",
    "    \n",
    "# departure time\n",
    "dep_time3 = []\n",
    "dep_time3_ = driver.find_elements(By.XPATH,'//div[@class=\"flexOne timeInfoLeft\"]/p[1]/span')\n",
    "for m in dep_time3_:\n",
    "    dep_time3.append(m.text)\n",
    "    \n",
    "# arrival time\n",
    "arr_time3 = []\n",
    "arr_time3_ = driver.find_elements(By.XPATH,'//div[@class=\"flexOne timeInfoRight\"]/p[1]/span')\n",
    "for n in arr_time3_:\n",
    "    arr_time3.append(n.text)\n",
    "    \n",
    "for o in arr_time3:\n",
    "    if o=='+ 1 DAY':\n",
    "        arr_time3.remove(o)\n",
    "    \n",
    "# flight duration\n",
    "duration3 = []\n",
    "duration3_ = driver.find_elements(By.XPATH,'//div[@class=\"stop-info flexOne\"]/p')\n",
    "for p in duration3_:\n",
    "    duration3.append(p.text)\n",
    "    \n",
    "# layover\n",
    "layover3 = []\n",
    "layover3_ = driver.find_elements(By.XPATH,'//div[@class=\"stop-info flexOne\"]/div/p')\n",
    "for q in layover3_:\n",
    "    layover3.append(q.text)\n",
    "    \n",
    "# price\n",
    "price3 = []\n",
    "price3_ = driver.find_elements(By.XPATH,'//p[@class=\"blackText fontSize18 blackFont white-space-no-wrap\"]')\n",
    "for r in price3_:\n",
    "    price3.append(r.text.split( ))\n",
    "    \n",
    "Price3 = []\n",
    "for s in range(len(price3)):\n",
    "    Price3.append(eval(price3[s][1].replace(',','')))"
   ]
  },
  {
   "cell_type": "code",
   "execution_count": 491,
   "id": "79407b15",
   "metadata": {},
   "outputs": [
    {
     "name": "stdout",
     "output_type": "stream",
     "text": [
      "42 42 42 42 42 42 42 42 42 42 42\n"
     ]
    }
   ],
   "source": [
    "print(len(airline3),len(code3),len(source3),len(dest3),len(dep_time3),len(arr_time3),len(duration3),len(layover3),len(Price3),len(date3),len(month3))"
   ]
  },
  {
   "cell_type": "code",
   "execution_count": 492,
   "id": "a7923ded",
   "metadata": {},
   "outputs": [],
   "source": [
    "df3 = pd.DataFrame()\n",
    "df3['Airline'] = airline3\n",
    "df3['Airline code'] = code3\n",
    "df3['Date of journey'] = date3\n",
    "df3['Month of journey'] = month3\n",
    "df3['Source'] = source3\n",
    "df3['Destination'] = dest3\n",
    "df3['Departure time'] = dep_time3\n",
    "df3['Arrival time'] = arr_time3\n",
    "df3['Flight duration'] = duration3\n",
    "df3['Type of flight'] = layover3\n",
    "df3['Price'] = Price3"
   ]
  },
  {
   "cell_type": "markdown",
   "id": "b1702f86",
   "metadata": {},
   "source": [
    "## 3rd October"
   ]
  },
  {
   "cell_type": "code",
   "execution_count": 493,
   "id": "90e89cf8",
   "metadata": {},
   "outputs": [],
   "source": [
    "date2b = driver.find_element(By.ID,\"departure\")\n",
    "date2b.click()"
   ]
  },
  {
   "cell_type": "code",
   "execution_count": 494,
   "id": "bebe9ddb",
   "metadata": {},
   "outputs": [],
   "source": [
    "dates2b = driver.find_element(By.XPATH,'//div[@class=\"DayPicker-Months\"]/div[1]/div[3]/div[2]/div[2]/div/p[1]')\n",
    "dates2b.click()"
   ]
  },
  {
   "cell_type": "code",
   "execution_count": 495,
   "id": "c26e5ec0",
   "metadata": {},
   "outputs": [],
   "source": [
    "search2b = driver.find_element(By.XPATH,'/html/body/div[1]/div/div[2]/header/div[1]/div/button')\n",
    "search2b.click()"
   ]
  },
  {
   "cell_type": "code",
   "execution_count": 498,
   "id": "60c01cb0",
   "metadata": {},
   "outputs": [],
   "source": [
    "airline4 = []\n",
    "airline4_ = driver.find_elements(By.XPATH,'//p[@class=\"boldFont blackText airlineName\"]')\n",
    "for i in airline4_:\n",
    "    airline4.append(i.text)\n",
    "for _ in range(100):\n",
    "    driver.execute_script(\"window.scrollBy(0,100)\")\n",
    "    \n",
    "# code\n",
    "code4 = []\n",
    "code4_ = driver.find_elements(By.XPATH,'//p[@class=\"fliCode\"]')\n",
    "for j in code4_:\n",
    "    code4.append(j.text)\n",
    "    \n",
    "# date of journey\n",
    "date4 = []\n",
    "for i in range(len(airline4)):\n",
    "    date4.append(int(3))\n",
    "\n",
    "# month of journey\n",
    "month4 = []\n",
    "for j in range(len(airline4)):\n",
    "    month4.append(int(10))\n",
    "    \n",
    "#source\n",
    "source4 = []\n",
    "source4_ = driver.find_elements(By.XPATH,'//div[@class=\"flexOne timeInfoLeft\"]/p[2]/font')\n",
    "for k in source4_:\n",
    "    source4.append(k.text)\n",
    "    \n",
    "# destination\n",
    "dest4 = []\n",
    "dest4_ = driver.find_elements(By.XPATH,'//div[@class=\"flexOne timeInfoRight\"]/p[2]/font')\n",
    "for l in dest4_:\n",
    "    dest4.append(l.text)\n",
    "    \n",
    "# departure time\n",
    "dep_time4 = []\n",
    "dep_time4_ = driver.find_elements(By.XPATH,'//div[@class=\"flexOne timeInfoLeft\"]/p[1]/span')\n",
    "for m in dep_time4_:\n",
    "    dep_time4.append(m.text)\n",
    "    \n",
    "# arrival time\n",
    "arr_time4 = []\n",
    "arr_time4_ = driver.find_elements(By.XPATH,'//div[@class=\"flexOne timeInfoRight\"]/p[1]/span')\n",
    "for n in arr_time4_:\n",
    "    arr_time4.append(n.text)\n",
    "    \n",
    "for o in arr_time4:\n",
    "    if o=='+ 1 DAY':\n",
    "        arr_time4.remove(o)\n",
    "    \n",
    "# flight duration\n",
    "duration4 = []\n",
    "duration4_ = driver.find_elements(By.XPATH,'//div[@class=\"stop-info flexOne\"]/p')\n",
    "for p in duration4_:\n",
    "    duration4.append(p.text)\n",
    "    \n",
    "# layover\n",
    "layover4 = []\n",
    "layover4_ = driver.find_elements(By.XPATH,'//div[@class=\"stop-info flexOne\"]/div/p')\n",
    "for q in layover4_:\n",
    "    layover4.append(q.text)\n",
    "    \n",
    "# price\n",
    "price4 = []\n",
    "price4_ = driver.find_elements(By.XPATH,'//p[@class=\"blackText fontSize18 blackFont white-space-no-wrap\"]')\n",
    "for r in price4_:\n",
    "    price4.append(r.text.split( ))\n",
    "    \n",
    "Price4 = []\n",
    "for s in range(len(price4)):\n",
    "    Price4.append(eval(price4[s][1].replace(',','')))"
   ]
  },
  {
   "cell_type": "code",
   "execution_count": 499,
   "id": "11f16480",
   "metadata": {},
   "outputs": [
    {
     "name": "stdout",
     "output_type": "stream",
     "text": [
      "45 45 45 45 45 45 45 45 45 45 45\n"
     ]
    }
   ],
   "source": [
    "print(len(airline4),len(code4),len(source4),len(dest4),len(dep_time4),len(arr_time4),len(duration4),len(layover4),len(Price4),len(date4),len(month4))"
   ]
  },
  {
   "cell_type": "code",
   "execution_count": 500,
   "id": "7bf1f568",
   "metadata": {},
   "outputs": [],
   "source": [
    "df4 = pd.DataFrame()\n",
    "df4['Airline'] = airline4\n",
    "df4['Airline code'] = code4\n",
    "df4['Date of journey'] = date4\n",
    "df4['Month of journey'] = month4\n",
    "df4['Source'] = source4\n",
    "df4['Destination'] = dest4\n",
    "df4['Departure time'] = dep_time4\n",
    "df4['Arrival time'] = arr_time4\n",
    "df4['Flight duration'] = duration4\n",
    "df4['Type of flight'] = layover4\n",
    "df4['Price'] = Price4"
   ]
  },
  {
   "cell_type": "markdown",
   "id": "dae1bed8",
   "metadata": {},
   "source": [
    "## 4th Oct"
   ]
  },
  {
   "cell_type": "code",
   "execution_count": 501,
   "id": "6f3ca68e",
   "metadata": {},
   "outputs": [],
   "source": [
    "date2b = driver.find_element(By.ID,\"departure\")\n",
    "date2b.click()"
   ]
  },
  {
   "cell_type": "code",
   "execution_count": 502,
   "id": "a6cfedc4",
   "metadata": {},
   "outputs": [],
   "source": [
    "dates2b = driver.find_element(By.XPATH,'//div[@class=\"DayPicker-Months\"]/div[1]/div[3]/div[2]/div[3]/div/p[1]')\n",
    "dates2b.click()"
   ]
  },
  {
   "cell_type": "code",
   "execution_count": 503,
   "id": "183141b2",
   "metadata": {},
   "outputs": [],
   "source": [
    "search2b = driver.find_element(By.XPATH,'/html/body/div[1]/div/div[2]/header/div[1]/div/button')\n",
    "search2b.click()"
   ]
  },
  {
   "cell_type": "code",
   "execution_count": 506,
   "id": "a9e39fd3",
   "metadata": {},
   "outputs": [],
   "source": [
    "airline5 = []\n",
    "airline5_ = driver.find_elements(By.XPATH,'//p[@class=\"boldFont blackText airlineName\"]')\n",
    "for i in airline5_:\n",
    "    airline5.append(i.text)\n",
    "for _ in range(100):\n",
    "    driver.execute_script(\"window.scrollBy(0,100)\")\n",
    "    \n",
    "# code\n",
    "code5 = []\n",
    "code5_ = driver.find_elements(By.XPATH,'//p[@class=\"fliCode\"]')\n",
    "for j in code5_:\n",
    "    code5.append(j.text)\n",
    "    \n",
    "# date of journey\n",
    "date5 = []\n",
    "for i in range(len(airline5)):\n",
    "    date5.append(int(4))\n",
    "\n",
    "# month of journey\n",
    "month5 = []\n",
    "for j in range(len(airline5)):\n",
    "    month5.append(int(10))\n",
    "    \n",
    "#source\n",
    "source5 = []\n",
    "source5_ = driver.find_elements(By.XPATH,'//div[@class=\"flexOne timeInfoLeft\"]/p[2]/font')\n",
    "for k in source5_:\n",
    "    source5.append(k.text)\n",
    "    \n",
    "# destination\n",
    "dest5 = []\n",
    "dest5_ = driver.find_elements(By.XPATH,'//div[@class=\"flexOne timeInfoRight\"]/p[2]/font')\n",
    "for l in dest5_:\n",
    "    dest5.append(l.text)\n",
    "    \n",
    "# departure time\n",
    "dep_time5 = []\n",
    "dep_time5_ = driver.find_elements(By.XPATH,'//div[@class=\"flexOne timeInfoLeft\"]/p[1]/span')\n",
    "for m in dep_time5_:\n",
    "    dep_time5.append(m.text)\n",
    "    \n",
    "# arrival time\n",
    "arr_time5 = []\n",
    "arr_time5_ = driver.find_elements(By.XPATH,'//div[@class=\"flexOne timeInfoRight\"]/p[1]/span')\n",
    "for n in arr_time5_:\n",
    "    arr_time5.append(n.text)\n",
    "    \n",
    "for o in arr_time5:\n",
    "    if o=='+ 1 DAY':\n",
    "        arr_time5.remove(o)\n",
    "    \n",
    "# flight duration\n",
    "duration5 = []\n",
    "duration5_ = driver.find_elements(By.XPATH,'//div[@class=\"stop-info flexOne\"]/p')\n",
    "for p in duration5_:\n",
    "    duration5.append(p.text)\n",
    "    \n",
    "# layover\n",
    "layover5 = []\n",
    "layover5_ = driver.find_elements(By.XPATH,'//div[@class=\"stop-info flexOne\"]/div/p')\n",
    "for q in layover5_:\n",
    "    layover5.append(q.text)\n",
    "    \n",
    "# price\n",
    "price5 = []\n",
    "price5_ = driver.find_elements(By.XPATH,'//p[@class=\"blackText fontSize18 blackFont white-space-no-wrap\"]')\n",
    "for r in price5_:\n",
    "    price5.append(r.text.split( ))\n",
    "    \n",
    "Price5 = []\n",
    "for s in range(len(price5)):\n",
    "    Price5.append(eval(price5[s][1].replace(',','')))"
   ]
  },
  {
   "cell_type": "code",
   "execution_count": 507,
   "id": "13db0634",
   "metadata": {},
   "outputs": [
    {
     "name": "stdout",
     "output_type": "stream",
     "text": [
      "43 43 43 43 43 43 43 43 43 43 43\n"
     ]
    }
   ],
   "source": [
    "print(len(airline5),len(code5),len(source5),len(dest5),len(dep_time5),len(arr_time5),len(duration5),len(layover5),len(Price5),len(date5),len(month5))"
   ]
  },
  {
   "cell_type": "code",
   "execution_count": 508,
   "id": "842c2944",
   "metadata": {},
   "outputs": [],
   "source": [
    "df5 = pd.DataFrame()\n",
    "df5['Airline'] = airline5\n",
    "df5['Airline code'] = code5\n",
    "df5['Date of journey'] = date5\n",
    "df5['Month of journey'] = month5\n",
    "df5['Source'] = source5\n",
    "df5['Destination'] = dest5\n",
    "df5['Departure time'] = dep_time5\n",
    "df5['Arrival time'] = arr_time5\n",
    "df5['Flight duration'] = duration5\n",
    "df5['Type of flight'] = layover5\n",
    "df5['Price'] = Price5"
   ]
  },
  {
   "cell_type": "markdown",
   "id": "0990ed9e",
   "metadata": {},
   "source": [
    "## 5th Oct"
   ]
  },
  {
   "cell_type": "code",
   "execution_count": 509,
   "id": "c1183ed3",
   "metadata": {},
   "outputs": [],
   "source": [
    "date2b = driver.find_element(By.ID,\"departure\")\n",
    "date2b.click()"
   ]
  },
  {
   "cell_type": "code",
   "execution_count": 510,
   "id": "d0080dfb",
   "metadata": {},
   "outputs": [],
   "source": [
    "dates2b = driver.find_element(By.XPATH,'//div[@class=\"DayPicker-Months\"]/div[1]/div[3]/div[2]/div[4]/div/p[1]')\n",
    "dates2b.click()"
   ]
  },
  {
   "cell_type": "code",
   "execution_count": 511,
   "id": "453f1b60",
   "metadata": {},
   "outputs": [],
   "source": [
    "search2b = driver.find_element(By.XPATH,'/html/body/div[1]/div/div[2]/header/div[1]/div/button')\n",
    "search2b.click()"
   ]
  },
  {
   "cell_type": "code",
   "execution_count": 518,
   "id": "952a7d24",
   "metadata": {},
   "outputs": [],
   "source": [
    "airline6 = []\n",
    "airline6_ = driver.find_elements(By.XPATH,'//p[@class=\"boldFont blackText airlineName\"]')\n",
    "for i in airline6_:\n",
    "    airline6.append(i.text)\n",
    "for _ in range(100):\n",
    "    driver.execute_script(\"window.scrollBy(0,100)\")\n",
    "    \n",
    "# code\n",
    "code6 = []\n",
    "code6_ = driver.find_elements(By.XPATH,'//p[@class=\"fliCode\"]')\n",
    "for j in code6_:\n",
    "    code6.append(j.text)\n",
    "    \n",
    "# date of journey\n",
    "date6 = []\n",
    "for i in range(len(airline6)):\n",
    "    date6.append(int(5))\n",
    "\n",
    "# month of journey\n",
    "month6 = []\n",
    "for j in range(len(airline6)):\n",
    "    month6.append(int(10))\n",
    "    \n",
    "#source\n",
    "source6 = []\n",
    "source6_ = driver.find_elements(By.XPATH,'//div[@class=\"flexOne timeInfoLeft\"]/p[2]/font')\n",
    "for k in source6_:\n",
    "    source6.append(k.text)\n",
    "    \n",
    "# destination\n",
    "dest6 = []\n",
    "dest6_ = driver.find_elements(By.XPATH,'//div[@class=\"flexOne timeInfoRight\"]/p[2]/font')\n",
    "for l in dest6_:\n",
    "    dest6.append(l.text)\n",
    "    \n",
    "# departure time\n",
    "dep_time6 = []\n",
    "dep_time6_ = driver.find_elements(By.XPATH,'//div[@class=\"flexOne timeInfoLeft\"]/p[1]/span')\n",
    "for m in dep_time6_:\n",
    "    dep_time6.append(m.text)\n",
    "    \n",
    "# arrival time\n",
    "arr_time6 = []\n",
    "arr_time6_ = driver.find_elements(By.XPATH,'//div[@class=\"flexOne timeInfoRight\"]/p[1]/span')\n",
    "for n in arr_time6_:\n",
    "    arr_time6.append(n.text)\n",
    "    \n",
    "for o in arr_time6:\n",
    "    if o=='+ 1 DAY':\n",
    "        arr_time6.remove(o)\n",
    "    \n",
    "# flight duration\n",
    "duration6 = []\n",
    "duration6_ = driver.find_elements(By.XPATH,'//div[@class=\"stop-info flexOne\"]/p')\n",
    "for p in duration6_:\n",
    "    duration6.append(p.text)\n",
    "    \n",
    "# layover\n",
    "layover6 = []\n",
    "layover6_ = driver.find_elements(By.XPATH,'//div[@class=\"stop-info flexOne\"]/div/p')\n",
    "for q in layover6_:\n",
    "    layover6.append(q.text)\n",
    "    \n",
    "# price\n",
    "price6 = []\n",
    "price6_ = driver.find_elements(By.XPATH,'//p[@class=\"blackText fontSize18 blackFont white-space-no-wrap\"]')\n",
    "for r in price6_:\n",
    "    price6.append(r.text.split( ))\n",
    "    \n",
    "Price6 = []\n",
    "for s in range(len(price6)):\n",
    "    Price6.append(eval(price6[s][1].replace(',','')))"
   ]
  },
  {
   "cell_type": "code",
   "execution_count": 519,
   "id": "a173a614",
   "metadata": {},
   "outputs": [
    {
     "name": "stdout",
     "output_type": "stream",
     "text": [
      "52 52 52 52 52 52 52 52 52 52 52\n"
     ]
    }
   ],
   "source": [
    "print(len(airline6),len(code6),len(source6),len(dest6),len(dep_time6),len(arr_time6),len(duration6),len(layover6),len(Price6),len(date6),len(month6))"
   ]
  },
  {
   "cell_type": "code",
   "execution_count": 520,
   "id": "aa5be3f9",
   "metadata": {},
   "outputs": [],
   "source": [
    "df6 = pd.DataFrame()\n",
    "df6['Airline'] = airline6\n",
    "df6['Airline code'] = code6\n",
    "df6['Date of journey'] = date6\n",
    "df6['Month of journey'] = month6\n",
    "df6['Source'] = source6\n",
    "df6['Destination'] = dest6\n",
    "df6['Departure time'] = dep_time6\n",
    "df6['Arrival time'] = arr_time6\n",
    "df6['Flight duration'] = duration6\n",
    "df6['Type of flight'] = layover6\n",
    "df6['Price'] = Price6"
   ]
  },
  {
   "cell_type": "markdown",
   "id": "589afbfa",
   "metadata": {},
   "source": [
    "## 6th Oct"
   ]
  },
  {
   "cell_type": "code",
   "execution_count": 521,
   "id": "b1a32bca",
   "metadata": {},
   "outputs": [],
   "source": [
    "date2b = driver.find_element(By.ID,\"departure\")\n",
    "date2b.click()"
   ]
  },
  {
   "cell_type": "code",
   "execution_count": 522,
   "id": "c50dc377",
   "metadata": {},
   "outputs": [],
   "source": [
    "dates2b = driver.find_element(By.XPATH,'//div[@class=\"DayPicker-Months\"]/div[1]/div[3]/div[2]/div[5]/div/p[1]')\n",
    "dates2b.click()"
   ]
  },
  {
   "cell_type": "code",
   "execution_count": 523,
   "id": "d11ac039",
   "metadata": {},
   "outputs": [],
   "source": [
    "search2b = driver.find_element(By.XPATH,'/html/body/div[1]/div/div[2]/header/div[1]/div/button')\n",
    "search2b.click()"
   ]
  },
  {
   "cell_type": "code",
   "execution_count": 526,
   "id": "2b70674f",
   "metadata": {},
   "outputs": [],
   "source": [
    "airline7 = []\n",
    "airline7_ = driver.find_elements(By.XPATH,'//p[@class=\"boldFont blackText airlineName\"]')\n",
    "for i in airline7_:\n",
    "    airline7.append(i.text)\n",
    "for _ in range(100):\n",
    "    driver.execute_script(\"window.scrollBy(0,100)\")\n",
    "    \n",
    "# code\n",
    "code7 = []\n",
    "code7_ = driver.find_elements(By.XPATH,'//p[@class=\"fliCode\"]')\n",
    "for j in code7_:\n",
    "    code7.append(j.text)\n",
    "    \n",
    "# date of journey\n",
    "date7 = []\n",
    "for i in range(len(airline7)):\n",
    "    date7.append(int(6))\n",
    "\n",
    "# month of journey\n",
    "month7 = []\n",
    "for j in range(len(airline7)):\n",
    "    month7.append(int(10))\n",
    "    \n",
    "#source\n",
    "source7 = []\n",
    "source7_ = driver.find_elements(By.XPATH,'//div[@class=\"flexOne timeInfoLeft\"]/p[2]/font')\n",
    "for k in source7_:\n",
    "    source7.append(k.text)\n",
    "    \n",
    "# destination\n",
    "dest7 = []\n",
    "dest7_ = driver.find_elements(By.XPATH,'//div[@class=\"flexOne timeInfoRight\"]/p[2]/font')\n",
    "for l in dest7_:\n",
    "    dest7.append(l.text)\n",
    "    \n",
    "# departure time\n",
    "dep_time7 = []\n",
    "dep_time7_ = driver.find_elements(By.XPATH,'//div[@class=\"flexOne timeInfoLeft\"]/p[1]/span')\n",
    "for m in dep_time7_:\n",
    "    dep_time7.append(m.text)\n",
    "    \n",
    "# arrival time\n",
    "arr_time7 = []\n",
    "arr_time7_ = driver.find_elements(By.XPATH,'//div[@class=\"flexOne timeInfoRight\"]/p[1]/span')\n",
    "for n in arr_time7_:\n",
    "    arr_time7.append(n.text)\n",
    "    \n",
    "for o in arr_time7:\n",
    "    if o=='+ 1 DAY':\n",
    "        arr_time7.remove(o)\n",
    "    \n",
    "# flight duration\n",
    "duration7 = []\n",
    "duration7_ = driver.find_elements(By.XPATH,'//div[@class=\"stop-info flexOne\"]/p')\n",
    "for p in duration7_:\n",
    "    duration7.append(p.text)\n",
    "    \n",
    "# layover\n",
    "layover7 = []\n",
    "layover7_ = driver.find_elements(By.XPATH,'//div[@class=\"stop-info flexOne\"]/div/p')\n",
    "for q in layover7_:\n",
    "    layover7.append(q.text)\n",
    "    \n",
    "# price\n",
    "price7 = []\n",
    "price7_ = driver.find_elements(By.XPATH,'//p[@class=\"blackText fontSize18 blackFont white-space-no-wrap\"]')\n",
    "for r in price7_:\n",
    "    price7.append(r.text.split( ))\n",
    "    \n",
    "Price7 = []\n",
    "for s in range(len(price7)):\n",
    "    Price7.append(eval(price7[s][1].replace(',','')))"
   ]
  },
  {
   "cell_type": "code",
   "execution_count": 527,
   "id": "69f18352",
   "metadata": {},
   "outputs": [
    {
     "name": "stdout",
     "output_type": "stream",
     "text": [
      "43 43 43 43 43 43 43 43 43 43 43\n"
     ]
    }
   ],
   "source": [
    "print(len(airline7),len(code7),len(source7),len(dest7),len(dep_time7),len(arr_time7),len(duration7),len(layover7),len(Price7),len(date7),len(month7))"
   ]
  },
  {
   "cell_type": "code",
   "execution_count": 528,
   "id": "e759d08c",
   "metadata": {},
   "outputs": [],
   "source": [
    "df7 = pd.DataFrame()\n",
    "df7['Airline'] = airline7\n",
    "df7['Airline code'] = code7\n",
    "df7['Date of journey'] = date7\n",
    "df7['Month of journey'] = month7\n",
    "df7['Source'] = source7\n",
    "df7['Destination'] = dest7\n",
    "df7['Departure time'] = dep_time7\n",
    "df7['Arrival time'] = arr_time7\n",
    "df7['Flight duration'] = duration7\n",
    "df7['Type of flight'] = layover7\n",
    "df7['Price'] = Price7"
   ]
  },
  {
   "cell_type": "markdown",
   "id": "7bc3fa1e",
   "metadata": {},
   "source": [
    "## 7th Oct"
   ]
  },
  {
   "cell_type": "code",
   "execution_count": 529,
   "id": "e5cf3ec0",
   "metadata": {},
   "outputs": [],
   "source": [
    "date2b = driver.find_element(By.ID,\"departure\")\n",
    "date2b.click()"
   ]
  },
  {
   "cell_type": "code",
   "execution_count": 530,
   "id": "65933433",
   "metadata": {},
   "outputs": [],
   "source": [
    "dates2b = driver.find_element(By.XPATH,'//div[@class=\"DayPicker-Months\"]/div[1]/div[3]/div[2]/div[6]/div/p[1]')\n",
    "dates2b.click()"
   ]
  },
  {
   "cell_type": "code",
   "execution_count": 531,
   "id": "0923430c",
   "metadata": {},
   "outputs": [],
   "source": [
    "search2b = driver.find_element(By.XPATH,'/html/body/div[1]/div/div[2]/header/div[1]/div/button')\n",
    "search2b.click()"
   ]
  },
  {
   "cell_type": "code",
   "execution_count": 534,
   "id": "d6f7373f",
   "metadata": {},
   "outputs": [],
   "source": [
    "airline8 = []\n",
    "airline8_ = driver.find_elements(By.XPATH,'//p[@class=\"boldFont blackText airlineName\"]')\n",
    "for i in airline8_:\n",
    "    airline8.append(i.text)\n",
    "for _ in range(100):\n",
    "    driver.execute_script(\"window.scrollBy(0,100)\")\n",
    "    \n",
    "# code\n",
    "code8 = []\n",
    "code8_ = driver.find_elements(By.XPATH,'//p[@class=\"fliCode\"]')\n",
    "for j in code8_:\n",
    "    code8.append(j.text)\n",
    "    \n",
    "# date of journey\n",
    "date8 = []\n",
    "for i in range(len(airline8)):\n",
    "    date8.append(int(7))\n",
    "\n",
    "# month of journey\n",
    "month8 = []\n",
    "for j in range(len(airline8)):\n",
    "    month8.append(int(10))\n",
    "    \n",
    "#source\n",
    "source8 = []\n",
    "source8_ = driver.find_elements(By.XPATH,'//div[@class=\"flexOne timeInfoLeft\"]/p[2]/font')\n",
    "for k in source8_:\n",
    "    source8.append(k.text)\n",
    "    \n",
    "# destination\n",
    "dest8 = []\n",
    "dest8_ = driver.find_elements(By.XPATH,'//div[@class=\"flexOne timeInfoRight\"]/p[2]/font')\n",
    "for l in dest8_:\n",
    "    dest8.append(l.text)\n",
    "    \n",
    "# departure time\n",
    "dep_time8 = []\n",
    "dep_time8_ = driver.find_elements(By.XPATH,'//div[@class=\"flexOne timeInfoLeft\"]/p[1]/span')\n",
    "for m in dep_time8_:\n",
    "    dep_time8.append(m.text)\n",
    "    \n",
    "# arrival time\n",
    "arr_time8 = []\n",
    "arr_time8_ = driver.find_elements(By.XPATH,'//div[@class=\"flexOne timeInfoRight\"]/p[1]/span')\n",
    "for n in arr_time8_:\n",
    "    arr_time8.append(n.text)\n",
    "    \n",
    "for o in arr_time8:\n",
    "    if o=='+ 1 DAY':\n",
    "        arr_time8.remove(o)\n",
    "    \n",
    "# flight duration\n",
    "duration8 = []\n",
    "duration8_ = driver.find_elements(By.XPATH,'//div[@class=\"stop-info flexOne\"]/p')\n",
    "for p in duration8_:\n",
    "    duration8.append(p.text)\n",
    "    \n",
    "# layover\n",
    "layover8 = []\n",
    "layover8_ = driver.find_elements(By.XPATH,'//div[@class=\"stop-info flexOne\"]/div/p')\n",
    "for q in layover8_:\n",
    "    layover8.append(q.text)\n",
    "    \n",
    "# price\n",
    "price8 = []\n",
    "price8_ = driver.find_elements(By.XPATH,'//p[@class=\"blackText fontSize18 blackFont white-space-no-wrap\"]')\n",
    "for r in price8_:\n",
    "    price8.append(r.text.split( ))\n",
    "    \n",
    "Price8 = []\n",
    "for s in range(len(price8)):\n",
    "    Price8.append(eval(price8[s][1].replace(',','')))"
   ]
  },
  {
   "cell_type": "code",
   "execution_count": 535,
   "id": "afe8a7ba",
   "metadata": {},
   "outputs": [
    {
     "name": "stdout",
     "output_type": "stream",
     "text": [
      "47 47 47 47 47 47 47 47 47 47 47\n"
     ]
    }
   ],
   "source": [
    "print(len(airline8),len(code8),len(source8),len(dest8),len(dep_time8),len(arr_time8),len(duration8),len(layover8),len(Price8),len(date8),len(month8))"
   ]
  },
  {
   "cell_type": "code",
   "execution_count": 536,
   "id": "31b44f77",
   "metadata": {},
   "outputs": [],
   "source": [
    "df8 = pd.DataFrame()\n",
    "df8['Airline'] = airline8\n",
    "df8['Airline code'] = code8\n",
    "df8['Date of journey'] = date8\n",
    "df8['Month of journey'] = month8\n",
    "df8['Source'] = source8\n",
    "df8['Destination'] = dest8\n",
    "df8['Departure time'] = dep_time8\n",
    "df8['Arrival time'] = arr_time8\n",
    "df8['Flight duration'] = duration8\n",
    "df8['Type of flight'] = layover8\n",
    "df8['Price'] = Price8"
   ]
  },
  {
   "cell_type": "markdown",
   "id": "e019191b",
   "metadata": {},
   "source": [
    "## 8th Oct"
   ]
  },
  {
   "cell_type": "code",
   "execution_count": 539,
   "id": "2728bcd9",
   "metadata": {},
   "outputs": [],
   "source": [
    "date2b = driver.find_element(By.ID,\"departure\")\n",
    "date2b.click()"
   ]
  },
  {
   "cell_type": "code",
   "execution_count": 540,
   "id": "0bd94c35",
   "metadata": {},
   "outputs": [],
   "source": [
    "dates2b = driver.find_element(By.XPATH,'//div[@class=\"DayPicker-Months\"]/div[1]/div[3]/div[2]/div[7]/div/p[1]')\n",
    "dates2b.click()"
   ]
  },
  {
   "cell_type": "code",
   "execution_count": 541,
   "id": "af8c18d5",
   "metadata": {},
   "outputs": [],
   "source": [
    "search2b = driver.find_element(By.XPATH,'/html/body/div[1]/div/div[2]/header/div[1]/div/button')\n",
    "search2b.click()"
   ]
  },
  {
   "cell_type": "code",
   "execution_count": 548,
   "id": "fc3942a8",
   "metadata": {},
   "outputs": [],
   "source": [
    "airline9 = []\n",
    "airline9_ = driver.find_elements(By.XPATH,'//p[@class=\"boldFont blackText airlineName\"]')\n",
    "for i in airline9_:\n",
    "    airline9.append(i.text)\n",
    "for _ in range(100):\n",
    "    driver.execute_script(\"window.scrollBy(0,100)\")\n",
    "    \n",
    "# code\n",
    "code9 = []\n",
    "code9_ = driver.find_elements(By.XPATH,'//p[@class=\"fliCode\"]')\n",
    "for j in code9_:\n",
    "    code9.append(j.text)\n",
    "    \n",
    "# date of journey\n",
    "date9 = []\n",
    "for i in range(len(airline9)):\n",
    "    date9.append(int(8))\n",
    "\n",
    "# month of journey\n",
    "month9 = []\n",
    "for j in range(len(airline9)):\n",
    "    month9.append(int(10))\n",
    "    \n",
    "#source\n",
    "source9 = []\n",
    "source9_ = driver.find_elements(By.XPATH,'//div[@class=\"flexOne timeInfoLeft\"]/p[2]/font')\n",
    "for k in source9_:\n",
    "    source9.append(k.text)\n",
    "    \n",
    "# destination\n",
    "dest9 = []\n",
    "dest9_ = driver.find_elements(By.XPATH,'//div[@class=\"flexOne timeInfoRight\"]/p[2]/font')\n",
    "for l in dest9_:\n",
    "    dest9.append(l.text)\n",
    "    \n",
    "# departure time\n",
    "dep_time9 = []\n",
    "dep_time9_ = driver.find_elements(By.XPATH,'//div[@class=\"flexOne timeInfoLeft\"]/p[1]/span')\n",
    "for m in dep_time9_:\n",
    "    dep_time9.append(m.text)\n",
    "    \n",
    "# arrival time\n",
    "arr_time9 = []\n",
    "arr_time9_ = driver.find_elements(By.XPATH,'//div[@class=\"flexOne timeInfoRight\"]/p[1]/span')\n",
    "for n in arr_time9_:\n",
    "    arr_time9.append(n.text)\n",
    "    \n",
    "for o in arr_time9:\n",
    "    if o=='+ 1 DAY':\n",
    "        arr_time9.remove(o)\n",
    "    \n",
    "# flight duration\n",
    "duration9 = []\n",
    "duration9_ = driver.find_elements(By.XPATH,'//div[@class=\"stop-info flexOne\"]/p')\n",
    "for p in duration9_:\n",
    "    duration9.append(p.text)\n",
    "    \n",
    "# layover\n",
    "layover9 = []\n",
    "layover9_ = driver.find_elements(By.XPATH,'//div[@class=\"stop-info flexOne\"]/div/p')\n",
    "for q in layover9_:\n",
    "    layover9.append(q.text)\n",
    "    \n",
    "# price\n",
    "price9 = []\n",
    "price9_ = driver.find_elements(By.XPATH,'//p[@class=\"blackText fontSize18 blackFont white-space-no-wrap\"]')\n",
    "for r in price9_:\n",
    "    price9.append(r.text.split( ))\n",
    "    \n",
    "Price9 = []\n",
    "for s in range(len(price9)):\n",
    "    Price9.append(eval(price9[s][1].replace(',','')))"
   ]
  },
  {
   "cell_type": "code",
   "execution_count": 549,
   "id": "22bed103",
   "metadata": {},
   "outputs": [
    {
     "name": "stdout",
     "output_type": "stream",
     "text": [
      "49 49 49 49 49 49 49 49 49 49 49\n"
     ]
    }
   ],
   "source": [
    "print(len(airline9),len(code9),len(source9),len(dest9),len(dep_time9),len(arr_time9),len(duration9),len(layover9),len(Price9),len(date9),len(month9))"
   ]
  },
  {
   "cell_type": "code",
   "execution_count": 550,
   "id": "b6c3540f",
   "metadata": {},
   "outputs": [],
   "source": [
    "df9 = pd.DataFrame()\n",
    "df9['Airline'] = airline9\n",
    "df9['Airline code'] = code9\n",
    "df9['Date of journey'] = date9\n",
    "df9['Month of journey'] = month9\n",
    "df9['Source'] = source9\n",
    "df9['Destination'] = dest9\n",
    "df9['Departure time'] = dep_time9\n",
    "df9['Arrival time'] = arr_time9\n",
    "df9['Flight duration'] = duration9\n",
    "df9['Type of flight'] = layover9\n",
    "df9['Price'] = Price9"
   ]
  },
  {
   "cell_type": "code",
   "execution_count": 553,
   "id": "7467391d",
   "metadata": {},
   "outputs": [
    {
     "data": {
      "text/plain": [
       "(411, 11)"
      ]
     },
     "execution_count": 553,
     "metadata": {},
     "output_type": "execute_result"
    }
   ],
   "source": [
    "Df1 = pd.concat([df1,df2,df3,df4,df5,df6,df7,df8,df9])\n",
    "Df1.shape"
   ]
  },
  {
   "cell_type": "code",
   "execution_count": 554,
   "id": "c2a68047",
   "metadata": {},
   "outputs": [],
   "source": [
    "Df1.to_csv('Delhi_to_Bangalore.csv')"
   ]
  },
  {
   "cell_type": "markdown",
   "id": "08306b90",
   "metadata": {},
   "source": [
    "## 2. Mumbai to Kolkata"
   ]
  },
  {
   "cell_type": "code",
   "execution_count": 320,
   "id": "943628d7",
   "metadata": {},
   "outputs": [],
   "source": [
    "from2 = driver.find_element(By.XPATH,'/html/body/div[1]/div/div[2]/header/div[1]/div/div[2]/input')\n",
    "from2.click()"
   ]
  },
  {
   "cell_type": "code",
   "execution_count": 321,
   "id": "7d02454c",
   "metadata": {},
   "outputs": [],
   "source": [
    "From2 = driver.find_element(By.XPATH,'/html/body/div[1]/div/div[2]/header/div[1]/div/div[2]/div[1]/form/div/input')\n",
    "From2.send_keys('Mumbai')"
   ]
  },
  {
   "cell_type": "code",
   "execution_count": 322,
   "id": "66d5ad2a",
   "metadata": {},
   "outputs": [],
   "source": [
    "from2_click = driver.find_element(By.XPATH,'/html/body/div[1]/div/div[2]/header/div[1]/div/div[2]/div[1]/form/div/div/div/ul/li[1]/div/div/div/div/p[1]')\n",
    "from2_click.click()"
   ]
  },
  {
   "cell_type": "code",
   "execution_count": 323,
   "id": "7a125eb5",
   "metadata": {},
   "outputs": [],
   "source": [
    "to2_click = driver.find_element(By.XPATH,'/html/body/div[1]/div/div[2]/header/div[1]/div/div[4]/div[1]/form/div/input')\n",
    "to2_click.send_keys('Kolkata')"
   ]
  },
  {
   "cell_type": "code",
   "execution_count": 324,
   "id": "d7dcd493",
   "metadata": {},
   "outputs": [],
   "source": [
    "To2_click = driver.find_element(By.XPATH,'/html/body/div[1]/div/div[2]/header/div[1]/div/div[4]/div[1]/form/div/div/div/ul/li[1]/div/div/div/div/p[1]')\n",
    "To2_click.click()"
   ]
  },
  {
   "cell_type": "markdown",
   "id": "7fe5e463",
   "metadata": {},
   "source": [
    "## 30 Sept"
   ]
  },
  {
   "cell_type": "code",
   "execution_count": 329,
   "id": "828ad4dc",
   "metadata": {},
   "outputs": [],
   "source": [
    "date2a = driver.find_element(By.XPATH,'/html/body/div[1]/div/div[2]/header/div[1]/div/div[5]/div[1]/div/div/div/div/div[2]/div[1]/div[3]/div[5]/div[6]/div/p[1]')\n",
    "date2a.click()"
   ]
  },
  {
   "cell_type": "code",
   "execution_count": 330,
   "id": "f6e85e18",
   "metadata": {},
   "outputs": [],
   "source": [
    "search2 = driver.find_element(By.XPATH,'/html/body/div[1]/div/div[2]/header/div[1]/div/button')\n",
    "search2.click()"
   ]
  },
  {
   "cell_type": "code",
   "execution_count": 346,
   "id": "5861efa0",
   "metadata": {},
   "outputs": [],
   "source": [
    "airline1 = []\n",
    "airline1_ = driver.find_elements(By.XPATH,'//p[@class=\"boldFont blackText airlineName\"]')\n",
    "for i in airline1_:\n",
    "    airline1.append(i.text)\n",
    "for _ in range(100):\n",
    "    driver.execute_script(\"window.scrollBy(0,100)\")\n",
    "    \n",
    "# code\n",
    "code1 = []\n",
    "code1_ = driver.find_elements(By.XPATH,'//p[@class=\"fliCode\"]')\n",
    "for j in code1_:\n",
    "    code1.append(j.text)\n",
    "    \n",
    "# date of journey\n",
    "date1 = []\n",
    "for i in range(len(airline1)):\n",
    "    date1.append(int(30))\n",
    "\n",
    "# month of journey\n",
    "month1 = []\n",
    "for j in range(len(airline1)):\n",
    "    month1.append(int(9))\n",
    "    \n",
    "#source\n",
    "source1 = []\n",
    "source1_ = driver.find_elements(By.XPATH,'//div[@class=\"flexOne timeInfoLeft\"]/p[2]/font')\n",
    "for k in source1_:\n",
    "    source1.append(k.text)\n",
    "    \n",
    "# destination\n",
    "dest1 = []\n",
    "dest1_ = driver.find_elements(By.XPATH,'//div[@class=\"flexOne timeInfoRight\"]/p[2]/font')\n",
    "for l in dest1_:\n",
    "    dest1.append(l.text)\n",
    "    \n",
    "# departure time\n",
    "dep_time1 = []\n",
    "dep_time1_ = driver.find_elements(By.XPATH,'//div[@class=\"flexOne timeInfoLeft\"]/p[1]/span')\n",
    "for m in dep_time1_:\n",
    "    dep_time1.append(m.text)\n",
    "    \n",
    "# arrival time\n",
    "arr_time1 = []\n",
    "arr_time1_ = driver.find_elements(By.XPATH,'//div[@class=\"flexOne timeInfoRight\"]/p[1]/span')\n",
    "for n in arr_time1_:\n",
    "    arr_time1.append(n.text)\n",
    "    \n",
    "for o in arr_time1:\n",
    "    if o=='+ 1 DAY':\n",
    "        arr_time1.remove(o)\n",
    "    \n",
    "# flight duration\n",
    "duration1 = []\n",
    "duration1_ = driver.find_elements(By.XPATH,'//div[@class=\"stop-info flexOne\"]/p')\n",
    "for p in duration1_:\n",
    "    duration1.append(p.text)\n",
    "    \n",
    "# layover\n",
    "layover1 = []\n",
    "layover1_ = driver.find_elements(By.XPATH,'//div[@class=\"stop-info flexOne\"]/div/p')\n",
    "for q in layover1_:\n",
    "    layover1.append(q.text)\n",
    "    \n",
    "# price\n",
    "price1 = []\n",
    "price1_ = driver.find_elements(By.XPATH,'//p[@class=\"blackText fontSize18 blackFont white-space-no-wrap\"]')\n",
    "for r in price1_:\n",
    "    price1.append(r.text.split( ))\n",
    "    \n",
    "Price1 = []\n",
    "for s in range(len(price1)):\n",
    "    Price1.append(eval(price1[s][1].replace(',','')))"
   ]
  },
  {
   "cell_type": "code",
   "execution_count": 347,
   "id": "5dedc1ce",
   "metadata": {},
   "outputs": [
    {
     "name": "stdout",
     "output_type": "stream",
     "text": [
      "37 37 37 37 37 37 37 37 37 37 37\n"
     ]
    }
   ],
   "source": [
    "print(len(airline1),len(code1),len(source1),len(dest1),len(dep_time1),len(arr_time1),len(duration1),len(layover1),len(Price1),len(date1),len(month1))"
   ]
  },
  {
   "cell_type": "code",
   "execution_count": 349,
   "id": "3b2e754d",
   "metadata": {},
   "outputs": [],
   "source": [
    "df1 = pd.DataFrame()\n",
    "df1['Airline'] = airline1\n",
    "df1['Airline code'] = code1\n",
    "df1['Date of journey'] = date1\n",
    "df1['Month of journey'] = month1\n",
    "df1['Source'] = source1\n",
    "df1['Destination'] = dest1\n",
    "df1['Departure time'] = dep_time1\n",
    "df1['Arrival time'] = arr_time1\n",
    "df1['Flight duration'] = duration1\n",
    "df1['Type of flight'] = layover1\n",
    "df1['Price'] = Price1"
   ]
  },
  {
   "cell_type": "markdown",
   "id": "9293390f",
   "metadata": {},
   "source": [
    "## 1st Oct"
   ]
  },
  {
   "cell_type": "code",
   "execution_count": 355,
   "id": "c08132ec",
   "metadata": {},
   "outputs": [],
   "source": [
    "date2b = driver.find_element(By.ID,\"departure\")\n",
    "date2b.click()"
   ]
  },
  {
   "cell_type": "code",
   "execution_count": 356,
   "id": "d3d4f01e",
   "metadata": {},
   "outputs": [],
   "source": [
    "dates2b = driver.find_element(By.XPATH,'//div[@class=\"DayPicker-Months\"]/div[1]/div[3]/div[1]/div[7]/div/p[1]')\n",
    "dates2b.click()"
   ]
  },
  {
   "cell_type": "code",
   "execution_count": 357,
   "id": "b82a5b0c",
   "metadata": {},
   "outputs": [],
   "source": [
    "search2b = driver.find_element(By.XPATH,'/html/body/div[1]/div/div[2]/header/div[1]/div/button')\n",
    "search2b.click()"
   ]
  },
  {
   "cell_type": "code",
   "execution_count": 362,
   "id": "b4a9cfc9",
   "metadata": {},
   "outputs": [],
   "source": [
    "airline2 = []\n",
    "airline2_ = driver.find_elements(By.XPATH,'//p[@class=\"boldFont blackText airlineName\"]')\n",
    "for i in airline2_:\n",
    "    airline2.append(i.text)\n",
    "for _ in range(100):\n",
    "    driver.execute_script(\"window.scrollBy(0,100)\")\n",
    "    \n",
    "# code\n",
    "code2 = []\n",
    "code2_ = driver.find_elements(By.XPATH,'//p[@class=\"fliCode\"]')\n",
    "for j in code2_:\n",
    "    code2.append(j.text)\n",
    "\n",
    "# date of journey\n",
    "date2 = []\n",
    "for i in range(len(airline2)):\n",
    "    date2.append(int(1))\n",
    "\n",
    "# month of journey\n",
    "month2 = []\n",
    "for j in range(len(airline2)):\n",
    "    month2.append(int(10))\n",
    "    \n",
    "#source\n",
    "source2 = []\n",
    "source2_ = driver.find_elements(By.XPATH,'//div[@class=\"flexOne timeInfoLeft\"]/p[2]/font')\n",
    "for k in source2_:\n",
    "    source2.append(k.text)\n",
    "    \n",
    "# destination\n",
    "dest2 = []\n",
    "dest2_ = driver.find_elements(By.XPATH,'//div[@class=\"flexOne timeInfoRight\"]/p[2]/font')\n",
    "for l in dest2_:\n",
    "    dest2.append(l.text)\n",
    "    \n",
    "# departure time\n",
    "dep_time2 = []\n",
    "dep_time2_ = driver.find_elements(By.XPATH,'//div[@class=\"flexOne timeInfoLeft\"]/p[1]/span')\n",
    "for m in dep_time2_:\n",
    "    dep_time2.append(m.text)\n",
    "    \n",
    "# arrival time\n",
    "arr_time2 = []\n",
    "arr_time2_ = driver.find_elements(By.XPATH,'//div[@class=\"flexOne timeInfoRight\"]/p[1]/span')\n",
    "for n in arr_time2_:\n",
    "    arr_time2.append(n.text)\n",
    "    \n",
    "for o in arr_time2:\n",
    "    if o=='+ 1 DAY':\n",
    "        arr_time2.remove(o)\n",
    "    \n",
    "# flight duration\n",
    "duration2 = []\n",
    "duration2_ = driver.find_elements(By.XPATH,'//div[@class=\"stop-info flexOne\"]/p')\n",
    "for p in duration2_:\n",
    "    duration2.append(p.text)\n",
    "    \n",
    "# layover\n",
    "layover2 = []\n",
    "layover2_ = driver.find_elements(By.XPATH,'//div[@class=\"stop-info flexOne\"]/div/p')\n",
    "for q in layover2_:\n",
    "    layover2.append(q.text)\n",
    "    \n",
    "# price\n",
    "price2 = []\n",
    "price2_ = driver.find_elements(By.XPATH,'//p[@class=\"blackText fontSize18 blackFont white-space-no-wrap\"]')\n",
    "for r in price2_:\n",
    "    price2.append(r.text.split( ))\n",
    "    \n",
    "Price2 = []\n",
    "for s in range(len(price2)):\n",
    "    Price2.append(eval(price2[s][1].replace(',','')))"
   ]
  },
  {
   "cell_type": "code",
   "execution_count": 363,
   "id": "9345b71d",
   "metadata": {},
   "outputs": [
    {
     "name": "stdout",
     "output_type": "stream",
     "text": [
      "16 16 16 16 16 16 16 16 16 16 16\n"
     ]
    }
   ],
   "source": [
    "print(len(airline2),len(code2),len(source2),len(dest2),len(dep_time2),len(arr_time2),len(duration2),len(layover2),len(Price2),len(date2),len(month2))"
   ]
  },
  {
   "cell_type": "code",
   "execution_count": 365,
   "id": "62845099",
   "metadata": {},
   "outputs": [],
   "source": [
    "df2 = pd.DataFrame()\n",
    "df2['Airline'] = airline2\n",
    "df2['Airline code'] = code2\n",
    "df2['Date of journey'] = date2\n",
    "df2['Month of journey'] = month2\n",
    "df2['Source'] = source2\n",
    "df2['Destination'] = dest2\n",
    "df2['Departure time'] = dep_time2\n",
    "df2['Arrival time'] = arr_time2\n",
    "df2['Flight duration'] = duration2\n",
    "df2['Type of flight'] = layover2\n",
    "df2['Price'] = Price2"
   ]
  },
  {
   "cell_type": "markdown",
   "id": "2d3e53d1",
   "metadata": {},
   "source": [
    "## 2nd Oct"
   ]
  },
  {
   "cell_type": "code",
   "execution_count": 367,
   "id": "90cd3dc8",
   "metadata": {},
   "outputs": [],
   "source": [
    "date2c = driver.find_element(By.ID,\"departure\")\n",
    "date2c.click()"
   ]
  },
  {
   "cell_type": "code",
   "execution_count": 368,
   "id": "2d7913d3",
   "metadata": {},
   "outputs": [],
   "source": [
    "dates2c = driver.find_element(By.XPATH,'//div[@class=\"DayPicker-Months\"]/div[1]/div[3]/div[2]/div[1]/div/p[1]')\n",
    "dates2c.click()"
   ]
  },
  {
   "cell_type": "code",
   "execution_count": 369,
   "id": "cfdd5f27",
   "metadata": {},
   "outputs": [],
   "source": [
    "search2c = driver.find_element(By.XPATH,'/html/body/div[1]/div/div[2]/header/div[1]/div/button')\n",
    "search2c.click()"
   ]
  },
  {
   "cell_type": "code",
   "execution_count": 374,
   "id": "c19f980b",
   "metadata": {},
   "outputs": [],
   "source": [
    "airline3 = []\n",
    "airline3_ = driver.find_elements(By.XPATH,'//p[@class=\"boldFont blackText airlineName\"]')\n",
    "for i in airline3_:\n",
    "    airline3.append(i.text)\n",
    "for _ in range(100):\n",
    "    driver.execute_script(\"window.scrollBy(0,100)\")\n",
    "    \n",
    "# code\n",
    "code3 = []\n",
    "code3_ = driver.find_elements(By.XPATH,'//p[@class=\"fliCode\"]')\n",
    "for j in code3_:\n",
    "    code3.append(j.text)\n",
    "    \n",
    "# date of journey\n",
    "date3 = []\n",
    "for i in range(len(airline3)):\n",
    "    date3.append(int(2))\n",
    "\n",
    "# month of journey\n",
    "month3 = []\n",
    "for j in range(len(airline3)):\n",
    "    month3.append(int(10))\n",
    "    \n",
    "#source\n",
    "source3 = []\n",
    "source3_ = driver.find_elements(By.XPATH,'//div[@class=\"flexOne timeInfoLeft\"]/p[2]/font')\n",
    "for k in source3_:\n",
    "    source3.append(k.text)\n",
    "    \n",
    "# destination\n",
    "dest3 = []\n",
    "dest3_ = driver.find_elements(By.XPATH,'//div[@class=\"flexOne timeInfoRight\"]/p[2]/font')\n",
    "for l in dest3_:\n",
    "    dest3.append(l.text)\n",
    "    \n",
    "# departure time\n",
    "dep_time3 = []\n",
    "dep_time3_ = driver.find_elements(By.XPATH,'//div[@class=\"flexOne timeInfoLeft\"]/p[1]/span')\n",
    "for m in dep_time3_:\n",
    "    dep_time3.append(m.text)\n",
    "    \n",
    "# arrival time\n",
    "arr_time3 = []\n",
    "arr_time3_ = driver.find_elements(By.XPATH,'//div[@class=\"flexOne timeInfoRight\"]/p[1]/span')\n",
    "for n in arr_time3_:\n",
    "    arr_time3.append(n.text)\n",
    "    \n",
    "for o in arr_time3:\n",
    "    if o=='+ 1 DAY':\n",
    "        arr_time3.remove(o)\n",
    "    \n",
    "# flight duration\n",
    "duration3 = []\n",
    "duration3_ = driver.find_elements(By.XPATH,'//div[@class=\"stop-info flexOne\"]/p')\n",
    "for p in duration3_:\n",
    "    duration3.append(p.text)\n",
    "    \n",
    "# layover\n",
    "layover3 = []\n",
    "layover3_ = driver.find_elements(By.XPATH,'//div[@class=\"stop-info flexOne\"]/div/p')\n",
    "for q in layover3_:\n",
    "    layover3.append(q.text)\n",
    "    \n",
    "# price\n",
    "price3 = []\n",
    "price3_ = driver.find_elements(By.XPATH,'//p[@class=\"blackText fontSize18 blackFont white-space-no-wrap\"]')\n",
    "for r in price3_:\n",
    "    price3.append(r.text.split( ))\n",
    "    \n",
    "Price3 = []\n",
    "for s in range(len(price3)):\n",
    "    Price3.append(eval(price3[s][1].replace(',','')))"
   ]
  },
  {
   "cell_type": "code",
   "execution_count": 375,
   "id": "c5c58ba7",
   "metadata": {},
   "outputs": [
    {
     "name": "stdout",
     "output_type": "stream",
     "text": [
      "23 23 23 23 23 23 23 23 23 23 23\n"
     ]
    }
   ],
   "source": [
    "print(len(airline3),len(code3),len(source3),len(dest3),len(dep_time3),len(arr_time3),len(duration3),len(layover3),len(Price3),len(date3),len(month3))"
   ]
  },
  {
   "cell_type": "code",
   "execution_count": 376,
   "id": "bb923990",
   "metadata": {},
   "outputs": [],
   "source": [
    "df3 = pd.DataFrame()\n",
    "df3['Airline'] = airline3\n",
    "df3['Airline code'] = code3\n",
    "df3['Date of journey'] = date3\n",
    "df3['Month of journey'] = month3\n",
    "df3['Source'] = source3\n",
    "df3['Destination'] = dest3\n",
    "df3['Departure time'] = dep_time3\n",
    "df3['Arrival time'] = arr_time3\n",
    "df3['Flight duration'] = duration3\n",
    "df3['Type of flight'] = layover3\n",
    "df3['Price'] = Price3"
   ]
  },
  {
   "cell_type": "markdown",
   "id": "0583b598",
   "metadata": {},
   "source": [
    "## 3rd Oct"
   ]
  },
  {
   "cell_type": "code",
   "execution_count": 377,
   "id": "9e3069b9",
   "metadata": {},
   "outputs": [],
   "source": [
    "date2d = driver.find_element(By.ID,\"departure\")\n",
    "date2d.click()"
   ]
  },
  {
   "cell_type": "code",
   "execution_count": 378,
   "id": "a1647579",
   "metadata": {},
   "outputs": [],
   "source": [
    "dates2c = driver.find_element(By.XPATH,'//div[@class=\"DayPicker-Months\"]/div[1]/div[3]/div[2]/div[2]/div/p[1]')\n",
    "dates2c.click()"
   ]
  },
  {
   "cell_type": "code",
   "execution_count": 379,
   "id": "81bc28b3",
   "metadata": {},
   "outputs": [],
   "source": [
    "search2c = driver.find_element(By.XPATH,'/html/body/div[1]/div/div[2]/header/div[1]/div/button')\n",
    "search2c.click()"
   ]
  },
  {
   "cell_type": "code",
   "execution_count": 387,
   "id": "04785695",
   "metadata": {},
   "outputs": [],
   "source": [
    "airline4 = []\n",
    "airline4_ = driver.find_elements(By.XPATH,'//p[@class=\"boldFont blackText airlineName\"]')\n",
    "for i in airline4_:\n",
    "    airline4.append(i.text)\n",
    "for _ in range(100):\n",
    "    driver.execute_script(\"window.scrollBy(0,100)\")\n",
    "    \n",
    "# code\n",
    "code4 = []\n",
    "code4_ = driver.find_elements(By.XPATH,'//p[@class=\"fliCode\"]')\n",
    "for j in code4_:\n",
    "    code4.append(j.text)\n",
    "    \n",
    "# date of journey\n",
    "date4 = []\n",
    "for i in range(len(airline4)):\n",
    "    date4.append(int(3))\n",
    "\n",
    "# month of journey\n",
    "month4 = []\n",
    "for j in range(len(airline4)):\n",
    "    month4.append(int(10))\n",
    "    \n",
    "#source\n",
    "source4 = []\n",
    "source4_ = driver.find_elements(By.XPATH,'//div[@class=\"flexOne timeInfoLeft\"]/p[2]/font')\n",
    "for k in source4_:\n",
    "    source4.append(k.text)\n",
    "    \n",
    "# destination\n",
    "dest4 = []\n",
    "dest4_ = driver.find_elements(By.XPATH,'//div[@class=\"flexOne timeInfoRight\"]/p[2]/font')\n",
    "for l in dest4_:\n",
    "    dest4.append(l.text)\n",
    "    \n",
    "# departure time\n",
    "dep_time4 = []\n",
    "dep_time4_ = driver.find_elements(By.XPATH,'//div[@class=\"flexOne timeInfoLeft\"]/p[1]/span')\n",
    "for m in dep_time4_:\n",
    "    dep_time4.append(m.text)\n",
    "    \n",
    "# arrival time\n",
    "arr_time4 = []\n",
    "arr_time4_ = driver.find_elements(By.XPATH,'//div[@class=\"flexOne timeInfoRight\"]/p[1]/span')\n",
    "for n in arr_time4_:\n",
    "    arr_time4.append(n.text)\n",
    "    \n",
    "for o in arr_time4:\n",
    "    if o=='+ 1 DAY':\n",
    "        arr_time4.remove(o)\n",
    "    \n",
    "# flight duration\n",
    "duration4 = []\n",
    "duration4_ = driver.find_elements(By.XPATH,'//div[@class=\"stop-info flexOne\"]/p')\n",
    "for p in duration4_:\n",
    "    duration4.append(p.text)\n",
    "    \n",
    "# layover\n",
    "layover4 = []\n",
    "layover4_ = driver.find_elements(By.XPATH,'//div[@class=\"stop-info flexOne\"]/div/p')\n",
    "for q in layover4_:\n",
    "    layover4.append(q.text)\n",
    "    \n",
    "# price\n",
    "price4 = []\n",
    "price4_ = driver.find_elements(By.XPATH,'//p[@class=\"blackText fontSize18 blackFont white-space-no-wrap\"]')\n",
    "for r in price4_:\n",
    "    price4.append(r.text.split( ))\n",
    "    \n",
    "Price4 = []\n",
    "for s in range(len(price4)):\n",
    "    Price4.append(eval(price4[s][1].replace(',','')))"
   ]
  },
  {
   "cell_type": "code",
   "execution_count": 388,
   "id": "db47e7c2",
   "metadata": {},
   "outputs": [
    {
     "name": "stdout",
     "output_type": "stream",
     "text": [
      "18 18 18 18 18 18 18 18 18 18 18\n"
     ]
    }
   ],
   "source": [
    "print(len(airline4),len(code4),len(source4),len(dest4),len(dep_time4),len(arr_time4),len(duration4),len(layover4),len(Price4),len(date4),len(month4))"
   ]
  },
  {
   "cell_type": "code",
   "execution_count": 390,
   "id": "8680831d",
   "metadata": {},
   "outputs": [],
   "source": [
    "df4 = pd.DataFrame()\n",
    "df4['Airline'] = airline4\n",
    "df4['Airline code'] = code4\n",
    "df4['Date of journey'] = date4\n",
    "df4['Month of journey'] = month4\n",
    "df4['Source'] = source4\n",
    "df4['Destination'] = dest4\n",
    "df4['Departure time'] = dep_time4\n",
    "df4['Arrival time'] = arr_time4\n",
    "df4['Flight duration'] = duration4\n",
    "df4['Type of flight'] = layover4\n",
    "df4['Price'] = Price4"
   ]
  },
  {
   "cell_type": "markdown",
   "id": "dd17ba82",
   "metadata": {},
   "source": [
    "## 4th Oct"
   ]
  },
  {
   "cell_type": "code",
   "execution_count": 391,
   "id": "9edf1ab0",
   "metadata": {},
   "outputs": [],
   "source": [
    "date2d = driver.find_element(By.ID,\"departure\")\n",
    "date2d.click()"
   ]
  },
  {
   "cell_type": "code",
   "execution_count": 392,
   "id": "6a3834ba",
   "metadata": {},
   "outputs": [],
   "source": [
    "dates2c = driver.find_element(By.XPATH,'//div[@class=\"DayPicker-Months\"]/div[1]/div[3]/div[2]/div[3]/div/p[1]')\n",
    "dates2c.click()"
   ]
  },
  {
   "cell_type": "code",
   "execution_count": 393,
   "id": "9dd523a7",
   "metadata": {},
   "outputs": [],
   "source": [
    "search2c = driver.find_element(By.XPATH,'/html/body/div[1]/div/div[2]/header/div[1]/div/button')\n",
    "search2c.click()"
   ]
  },
  {
   "cell_type": "code",
   "execution_count": 397,
   "id": "1e0e36a2",
   "metadata": {},
   "outputs": [],
   "source": [
    "airline5 = []\n",
    "airline5_ = driver.find_elements(By.XPATH,'//p[@class=\"boldFont blackText airlineName\"]')\n",
    "for i in airline5_:\n",
    "    airline5.append(i.text)\n",
    "for _ in range(100):\n",
    "    driver.execute_script(\"window.scrollBy(0,100)\")\n",
    "    \n",
    "# code\n",
    "code5 = []\n",
    "code5_ = driver.find_elements(By.XPATH,'//p[@class=\"fliCode\"]')\n",
    "for j in code5_:\n",
    "    code5.append(j.text)\n",
    "    \n",
    "# date of journey\n",
    "date5 = []\n",
    "for i in range(len(airline5)):\n",
    "    date5.append(int(4))\n",
    "\n",
    "# month of journey\n",
    "month5 = []\n",
    "for j in range(len(airline5)):\n",
    "    month5.append(int(10))\n",
    "    \n",
    "#source\n",
    "source5 = []\n",
    "source5_ = driver.find_elements(By.XPATH,'//div[@class=\"flexOne timeInfoLeft\"]/p[2]/font')\n",
    "for k in source5_:\n",
    "    source5.append(k.text)\n",
    "    \n",
    "# destination\n",
    "dest5 = []\n",
    "dest5_ = driver.find_elements(By.XPATH,'//div[@class=\"flexOne timeInfoRight\"]/p[2]/font')\n",
    "for l in dest5_:\n",
    "    dest5.append(l.text)\n",
    "    \n",
    "# departure time\n",
    "dep_time5 = []\n",
    "dep_time5_ = driver.find_elements(By.XPATH,'//div[@class=\"flexOne timeInfoLeft\"]/p[1]/span')\n",
    "for m in dep_time5_:\n",
    "    dep_time5.append(m.text)\n",
    "    \n",
    "# arrival time\n",
    "arr_time5 = []\n",
    "arr_time5_ = driver.find_elements(By.XPATH,'//div[@class=\"flexOne timeInfoRight\"]/p[1]/span')\n",
    "for n in arr_time5_:\n",
    "    arr_time5.append(n.text)\n",
    "    \n",
    "for o in arr_time5:\n",
    "    if o=='+ 1 DAY':\n",
    "        arr_time5.remove(o)\n",
    "    \n",
    "# flight duration\n",
    "duration5 = []\n",
    "duration5_ = driver.find_elements(By.XPATH,'//div[@class=\"stop-info flexOne\"]/p')\n",
    "for p in duration5_:\n",
    "    duration5.append(p.text)\n",
    "    \n",
    "# layover\n",
    "layover5 = []\n",
    "layover5_ = driver.find_elements(By.XPATH,'//div[@class=\"stop-info flexOne\"]/div/p')\n",
    "for q in layover5_:\n",
    "    layover5.append(q.text)\n",
    "    \n",
    "# price\n",
    "price5 = []\n",
    "price5_ = driver.find_elements(By.XPATH,'//p[@class=\"blackText fontSize18 blackFont white-space-no-wrap\"]')\n",
    "for r in price5_:\n",
    "    price5.append(r.text.split( ))\n",
    "    \n",
    "Price5 = []\n",
    "for s in range(len(price5)):\n",
    "    Price5.append(eval(price5[s][1].replace(',','')))"
   ]
  },
  {
   "cell_type": "code",
   "execution_count": 398,
   "id": "55962c12",
   "metadata": {},
   "outputs": [
    {
     "name": "stdout",
     "output_type": "stream",
     "text": [
      "16 16 16 16 16 16 16 16 16 16 16\n"
     ]
    }
   ],
   "source": [
    "print(len(airline5),len(code5),len(source5),len(dest5),len(dep_time5),len(arr_time5),len(duration5),len(layover5),len(Price5),len(date5),len(month5))"
   ]
  },
  {
   "cell_type": "code",
   "execution_count": 399,
   "id": "814dfe78",
   "metadata": {},
   "outputs": [],
   "source": [
    "df5 = pd.DataFrame()\n",
    "df5['Airline'] = airline5\n",
    "df5['Airline code'] = code5\n",
    "df5['Date of journey'] = date5\n",
    "df5['Month of journey'] = month5\n",
    "df5['Source'] = source5\n",
    "df5['Destination'] = dest5\n",
    "df5['Departure time'] = dep_time5\n",
    "df5['Arrival time'] = arr_time5\n",
    "df5['Flight duration'] = duration5\n",
    "df5['Type of flight'] = layover5\n",
    "df5['Price'] = Price5"
   ]
  },
  {
   "cell_type": "markdown",
   "id": "0a29ce86",
   "metadata": {},
   "source": [
    "## 5th Oct"
   ]
  },
  {
   "cell_type": "code",
   "execution_count": 401,
   "id": "176c0112",
   "metadata": {},
   "outputs": [],
   "source": [
    "date2d = driver.find_element(By.ID,\"departure\")\n",
    "date2d.click()"
   ]
  },
  {
   "cell_type": "code",
   "execution_count": 402,
   "id": "50c0715a",
   "metadata": {},
   "outputs": [],
   "source": [
    "dates2c = driver.find_element(By.XPATH,'//div[@class=\"DayPicker-Months\"]/div[1]/div[3]/div[2]/div[4]/div/p[1]')\n",
    "dates2c.click()"
   ]
  },
  {
   "cell_type": "code",
   "execution_count": 403,
   "id": "1c2a39ac",
   "metadata": {},
   "outputs": [],
   "source": [
    "search2c = driver.find_element(By.XPATH,'/html/body/div[1]/div/div[2]/header/div[1]/div/button')\n",
    "search2c.click()"
   ]
  },
  {
   "cell_type": "code",
   "execution_count": 408,
   "id": "fcc94dab",
   "metadata": {},
   "outputs": [],
   "source": [
    "airline6 = []\n",
    "airline6_ = driver.find_elements(By.XPATH,'//p[@class=\"boldFont blackText airlineName\"]')\n",
    "for i in airline6_:\n",
    "    airline6.append(i.text)\n",
    "for _ in range(100):\n",
    "    driver.execute_script(\"window.scrollBy(0,100)\")\n",
    "    \n",
    "# code\n",
    "code6 = []\n",
    "code6_ = driver.find_elements(By.XPATH,'//p[@class=\"fliCode\"]')\n",
    "for j in code6_:\n",
    "    code6.append(j.text)\n",
    "    \n",
    "# date of journey\n",
    "date6 = []\n",
    "for i in range(len(airline6)):\n",
    "    date6.append(int(5))\n",
    "\n",
    "# month of journey\n",
    "month6 = []\n",
    "for j in range(len(airline6)):\n",
    "    month6.append(int(10))\n",
    "    \n",
    "#source\n",
    "source6 = []\n",
    "source6_ = driver.find_elements(By.XPATH,'//div[@class=\"flexOne timeInfoLeft\"]/p[2]/font')\n",
    "for k in source6_:\n",
    "    source6.append(k.text)\n",
    "    \n",
    "# destination\n",
    "dest6 = []\n",
    "dest6_ = driver.find_elements(By.XPATH,'//div[@class=\"flexOne timeInfoRight\"]/p[2]/font')\n",
    "for l in dest6_:\n",
    "    dest6.append(l.text)\n",
    "    \n",
    "# departure time\n",
    "dep_time6 = []\n",
    "dep_time6_ = driver.find_elements(By.XPATH,'//div[@class=\"flexOne timeInfoLeft\"]/p[1]/span')\n",
    "for m in dep_time6_:\n",
    "    dep_time6.append(m.text)\n",
    "    \n",
    "# arrival time\n",
    "arr_time6 = []\n",
    "arr_time6_ = driver.find_elements(By.XPATH,'//div[@class=\"flexOne timeInfoRight\"]/p[1]/span')\n",
    "for n in arr_time6_:\n",
    "    arr_time6.append(n.text)\n",
    "    \n",
    "for o in arr_time6:\n",
    "    if o=='+ 1 DAY':\n",
    "        arr_time6.remove(o)\n",
    "    \n",
    "# flight duration\n",
    "duration6 = []\n",
    "duration6_ = driver.find_elements(By.XPATH,'//div[@class=\"stop-info flexOne\"]/p')\n",
    "for p in duration6_:\n",
    "    duration6.append(p.text)\n",
    "    \n",
    "# layover\n",
    "layover6 = []\n",
    "layover6_ = driver.find_elements(By.XPATH,'//div[@class=\"stop-info flexOne\"]/div/p')\n",
    "for q in layover6_:\n",
    "    layover6.append(q.text)\n",
    "    \n",
    "# price\n",
    "price6 = []\n",
    "price6_ = driver.find_elements(By.XPATH,'//p[@class=\"blackText fontSize18 blackFont white-space-no-wrap\"]')\n",
    "for r in price6_:\n",
    "    price6.append(r.text.split( ))\n",
    "    \n",
    "Price6 = []\n",
    "for s in range(len(price6)):\n",
    "    Price6.append(eval(price6[s][1].replace(',','')))"
   ]
  },
  {
   "cell_type": "code",
   "execution_count": 409,
   "id": "000b62f6",
   "metadata": {},
   "outputs": [
    {
     "name": "stdout",
     "output_type": "stream",
     "text": [
      "18 18 18 18 18 18 18 18 18 18 18\n"
     ]
    }
   ],
   "source": [
    "print(len(airline6),len(code6),len(source6),len(dest6),len(dep_time6),len(arr_time6),len(duration6),len(layover6),len(Price6),len(date6),len(month6))"
   ]
  },
  {
   "cell_type": "code",
   "execution_count": 410,
   "id": "6b30c6b0",
   "metadata": {},
   "outputs": [],
   "source": [
    "df6 = pd.DataFrame()\n",
    "df6['Airline'] = airline6\n",
    "df6['Airline code'] = code6\n",
    "df6['Date of journey'] = date6\n",
    "df6['Month of journey'] = month6\n",
    "df6['Source'] = source6\n",
    "df6['Destination'] = dest6\n",
    "df6['Departure time'] = dep_time6\n",
    "df6['Arrival time'] = arr_time6\n",
    "df6['Flight duration'] = duration6\n",
    "df6['Type of flight'] = layover6\n",
    "df6['Price'] = Price6"
   ]
  },
  {
   "cell_type": "markdown",
   "id": "73698e6c",
   "metadata": {},
   "source": [
    "## 6th Oct"
   ]
  },
  {
   "cell_type": "code",
   "execution_count": 412,
   "id": "92262cf3",
   "metadata": {},
   "outputs": [],
   "source": [
    "date2d = driver.find_element(By.ID,\"departure\")\n",
    "date2d.click()"
   ]
  },
  {
   "cell_type": "code",
   "execution_count": 413,
   "id": "e6546b57",
   "metadata": {},
   "outputs": [],
   "source": [
    "dates2c = driver.find_element(By.XPATH,'//div[@class=\"DayPicker-Months\"]/div[1]/div[3]/div[2]/div[5]/div/p[1]')\n",
    "dates2c.click()"
   ]
  },
  {
   "cell_type": "code",
   "execution_count": 414,
   "id": "a443099e",
   "metadata": {},
   "outputs": [],
   "source": [
    "search2c = driver.find_element(By.XPATH,'/html/body/div[1]/div/div[2]/header/div[1]/div/button')\n",
    "search2c.click()"
   ]
  },
  {
   "cell_type": "code",
   "execution_count": 417,
   "id": "20d94621",
   "metadata": {},
   "outputs": [],
   "source": [
    "airline7 = []\n",
    "airline7_ = driver.find_elements(By.XPATH,'//p[@class=\"boldFont blackText airlineName\"]')\n",
    "for i in airline7_:\n",
    "    airline7.append(i.text)\n",
    "for _ in range(100):\n",
    "    driver.execute_script(\"window.scrollBy(0,100)\")\n",
    "    \n",
    "# code\n",
    "code7 = []\n",
    "code7_ = driver.find_elements(By.XPATH,'//p[@class=\"fliCode\"]')\n",
    "for j in code7_:\n",
    "    code7.append(j.text)\n",
    "    \n",
    "# date of journey\n",
    "date7 = []\n",
    "for i in range(len(airline7)):\n",
    "    date7.append(int(6))\n",
    "\n",
    "# month of journey\n",
    "month7 = []\n",
    "for j in range(len(airline7)):\n",
    "    month7.append(int(10))\n",
    "    \n",
    "#source\n",
    "source7 = []\n",
    "source7_ = driver.find_elements(By.XPATH,'//div[@class=\"flexOne timeInfoLeft\"]/p[2]/font')\n",
    "for k in source7_:\n",
    "    source7.append(k.text)\n",
    "    \n",
    "# destination\n",
    "dest7 = []\n",
    "dest7_ = driver.find_elements(By.XPATH,'//div[@class=\"flexOne timeInfoRight\"]/p[2]/font')\n",
    "for l in dest7_:\n",
    "    dest7.append(l.text)\n",
    "    \n",
    "# departure time\n",
    "dep_time7 = []\n",
    "dep_time7_ = driver.find_elements(By.XPATH,'//div[@class=\"flexOne timeInfoLeft\"]/p[1]/span')\n",
    "for m in dep_time7_:\n",
    "    dep_time7.append(m.text)\n",
    "    \n",
    "# arrival time\n",
    "arr_time7 = []\n",
    "arr_time7_ = driver.find_elements(By.XPATH,'//div[@class=\"flexOne timeInfoRight\"]/p[1]/span')\n",
    "for n in arr_time7_:\n",
    "    arr_time7.append(n.text)\n",
    "    \n",
    "for o in arr_time7:\n",
    "    if o=='+ 1 DAY':\n",
    "        arr_time7.remove(o)\n",
    "    \n",
    "# flight duration\n",
    "duration7 = []\n",
    "duration7_ = driver.find_elements(By.XPATH,'//div[@class=\"stop-info flexOne\"]/p')\n",
    "for p in duration7_:\n",
    "    duration7.append(p.text)\n",
    "    \n",
    "# layover\n",
    "layover7 = []\n",
    "layover7_ = driver.find_elements(By.XPATH,'//div[@class=\"stop-info flexOne\"]/div/p')\n",
    "for q in layover7_:\n",
    "    layover7.append(q.text)\n",
    "    \n",
    "# price\n",
    "price7 = []\n",
    "price7_ = driver.find_elements(By.XPATH,'//p[@class=\"blackText fontSize18 blackFont white-space-no-wrap\"]')\n",
    "for r in price7_:\n",
    "    price7.append(r.text.split( ))\n",
    "    \n",
    "Price7 = []\n",
    "for s in range(len(price7)):\n",
    "    Price7.append(eval(price7[s][1].replace(',','')))"
   ]
  },
  {
   "cell_type": "code",
   "execution_count": 418,
   "id": "df6fde0c",
   "metadata": {},
   "outputs": [
    {
     "name": "stdout",
     "output_type": "stream",
     "text": [
      "18 18 18 18 18 18 18 18 18 18 18\n"
     ]
    }
   ],
   "source": [
    "print(len(airline7),len(code7),len(source7),len(dest7),len(dep_time7),len(arr_time7),len(duration7),len(layover7),len(Price7),len(date7),len(month7))"
   ]
  },
  {
   "cell_type": "code",
   "execution_count": 419,
   "id": "fa399e9a",
   "metadata": {},
   "outputs": [],
   "source": [
    "df7 = pd.DataFrame()\n",
    "df7['Airline'] = airline7\n",
    "df7['Airline code'] = code7\n",
    "df7['Date of journey'] = date7\n",
    "df7['Month of journey'] = month7\n",
    "df7['Source'] = source7\n",
    "df7['Destination'] = dest7\n",
    "df7['Departure time'] = dep_time7\n",
    "df7['Arrival time'] = arr_time7\n",
    "df7['Flight duration'] = duration7\n",
    "df7['Type of flight'] = layover7\n",
    "df7['Price'] = Price7"
   ]
  },
  {
   "cell_type": "markdown",
   "id": "1a1e6df3",
   "metadata": {},
   "source": [
    "## 7th Oct"
   ]
  },
  {
   "cell_type": "code",
   "execution_count": 421,
   "id": "31efb31e",
   "metadata": {},
   "outputs": [],
   "source": [
    "date2d = driver.find_element(By.ID,\"departure\")\n",
    "date2d.click()"
   ]
  },
  {
   "cell_type": "code",
   "execution_count": 422,
   "id": "51f5dc78",
   "metadata": {},
   "outputs": [],
   "source": [
    "dates2c = driver.find_element(By.XPATH,'//div[@class=\"DayPicker-Months\"]/div[1]/div[3]/div[2]/div[6]/div/p[1]')\n",
    "dates2c.click()"
   ]
  },
  {
   "cell_type": "code",
   "execution_count": 423,
   "id": "4eeb50dd",
   "metadata": {},
   "outputs": [],
   "source": [
    "search2c = driver.find_element(By.XPATH,'/html/body/div[1]/div/div[2]/header/div[1]/div/button')\n",
    "search2c.click()"
   ]
  },
  {
   "cell_type": "code",
   "execution_count": 429,
   "id": "e9b9eec4",
   "metadata": {},
   "outputs": [],
   "source": [
    "airline8 = []\n",
    "airline8_ = driver.find_elements(By.XPATH,'//p[@class=\"boldFont blackText airlineName\"]')\n",
    "for i in airline8_:\n",
    "    airline8.append(i.text)\n",
    "for _ in range(100):\n",
    "    driver.execute_script(\"window.scrollBy(0,100)\")\n",
    "    \n",
    "# code\n",
    "code8 = []\n",
    "code8_ = driver.find_elements(By.XPATH,'//p[@class=\"fliCode\"]')\n",
    "for j in code8_:\n",
    "    code8.append(j.text)\n",
    "    \n",
    "# date of journey\n",
    "date8 = []\n",
    "for i in range(len(airline8)):\n",
    "    date8.append(int(7))\n",
    "\n",
    "# month of journey\n",
    "month8 = []\n",
    "for j in range(len(airline8)):\n",
    "    month8.append(int(10))\n",
    "    \n",
    "#source\n",
    "source8 = []\n",
    "source8_ = driver.find_elements(By.XPATH,'//div[@class=\"flexOne timeInfoLeft\"]/p[2]/font')\n",
    "for k in source8_:\n",
    "    source8.append(k.text)\n",
    "    \n",
    "# destination\n",
    "dest8 = []\n",
    "dest8_ = driver.find_elements(By.XPATH,'//div[@class=\"flexOne timeInfoRight\"]/p[2]/font')\n",
    "for l in dest8_:\n",
    "    dest8.append(l.text)\n",
    "    \n",
    "# departure time\n",
    "dep_time8 = []\n",
    "dep_time8_ = driver.find_elements(By.XPATH,'//div[@class=\"flexOne timeInfoLeft\"]/p[1]/span')\n",
    "for m in dep_time8_:\n",
    "    dep_time8.append(m.text)\n",
    "    \n",
    "# arrival time\n",
    "arr_time8 = []\n",
    "arr_time8_ = driver.find_elements(By.XPATH,'//div[@class=\"flexOne timeInfoRight\"]/p[1]/span')\n",
    "for n in arr_time8_:\n",
    "    arr_time8.append(n.text)\n",
    "    \n",
    "for o in arr_time8:\n",
    "    if o=='+ 1 DAY':\n",
    "        arr_time8.remove(o)\n",
    "    \n",
    "# flight duration\n",
    "duration8 = []\n",
    "duration8_ = driver.find_elements(By.XPATH,'//div[@class=\"stop-info flexOne\"]/p')\n",
    "for p in duration8_:\n",
    "    duration8.append(p.text)\n",
    "    \n",
    "# layover\n",
    "layover8 = []\n",
    "layover8_ = driver.find_elements(By.XPATH,'//div[@class=\"stop-info flexOne\"]/div/p')\n",
    "for q in layover8_:\n",
    "    layover8.append(q.text)\n",
    "    \n",
    "# price\n",
    "price8 = []\n",
    "price8_ = driver.find_elements(By.XPATH,'//p[@class=\"blackText fontSize18 blackFont white-space-no-wrap\"]')\n",
    "for r in price8_:\n",
    "    price8.append(r.text.split( ))\n",
    "    \n",
    "Price8 = []\n",
    "for s in range(len(price8)):\n",
    "    Price8.append(eval(price8[s][1].replace(',','')))"
   ]
  },
  {
   "cell_type": "code",
   "execution_count": 430,
   "id": "e036d899",
   "metadata": {},
   "outputs": [
    {
     "name": "stdout",
     "output_type": "stream",
     "text": [
      "20 20 20 20 20 20 20 20 20 20 20\n"
     ]
    }
   ],
   "source": [
    "print(len(airline8),len(code8),len(source8),len(dest8),len(dep_time8),len(arr_time8),len(duration8),len(layover8),len(Price8),len(date8),len(month8))"
   ]
  },
  {
   "cell_type": "code",
   "execution_count": 431,
   "id": "4b864832",
   "metadata": {},
   "outputs": [],
   "source": [
    "df8 = pd.DataFrame()\n",
    "df8['Airline'] = airline8\n",
    "df8['Airline code'] = code8\n",
    "df8['Date of journey'] = date8\n",
    "df8['Month of journey'] = month8\n",
    "df8['Source'] = source8\n",
    "df8['Destination'] = dest8\n",
    "df8['Departure time'] = dep_time8\n",
    "df8['Arrival time'] = arr_time8\n",
    "df8['Flight duration'] = duration8\n",
    "df8['Type of flight'] = layover8\n",
    "df8['Price'] = Price8"
   ]
  },
  {
   "cell_type": "markdown",
   "id": "7ed38442",
   "metadata": {},
   "source": [
    "## 8th Oct"
   ]
  },
  {
   "cell_type": "code",
   "execution_count": 561,
   "id": "6988c795",
   "metadata": {},
   "outputs": [],
   "source": [
    "date2b = driver.find_element(By.ID,\"departure\")\n",
    "date2b.click()"
   ]
  },
  {
   "cell_type": "code",
   "execution_count": 562,
   "id": "fae406cc",
   "metadata": {},
   "outputs": [],
   "source": [
    "dates2b = driver.find_element(By.XPATH,'//div[@class=\"DayPicker-Months\"]/div[1]/div[3]/div[2]/div[7]/div/p[1]')\n",
    "dates2b.click()"
   ]
  },
  {
   "cell_type": "code",
   "execution_count": 563,
   "id": "9d95d1f9",
   "metadata": {},
   "outputs": [],
   "source": [
    "search2c = driver.find_element(By.XPATH,'/html/body/div[1]/div/div[2]/header/div[1]/div/button')\n",
    "search2c.click()"
   ]
  },
  {
   "cell_type": "code",
   "execution_count": 566,
   "id": "2454892f",
   "metadata": {},
   "outputs": [],
   "source": [
    "airline9 = []\n",
    "airline9_ = driver.find_elements(By.XPATH,'//p[@class=\"boldFont blackText airlineName\"]')\n",
    "for i in airline9_:\n",
    "    airline9.append(i.text)\n",
    "for _ in range(100):\n",
    "    driver.execute_script(\"window.scrollBy(0,100)\")\n",
    "    \n",
    "# code\n",
    "code9 = []\n",
    "code9_ = driver.find_elements(By.XPATH,'//p[@class=\"fliCode\"]')\n",
    "for j in code9_:\n",
    "    code9.append(j.text)\n",
    "    \n",
    "# date of journey\n",
    "date9 = []\n",
    "for i in range(len(airline9)):\n",
    "    date9.append(int(8))\n",
    "\n",
    "# month of journey\n",
    "month9 = []\n",
    "for j in range(len(airline9)):\n",
    "    month9.append(int(10))\n",
    "    \n",
    "#source\n",
    "source9 = []\n",
    "source9_ = driver.find_elements(By.XPATH,'//div[@class=\"flexOne timeInfoLeft\"]/p[2]/font')\n",
    "for k in source9_:\n",
    "    source9.append(k.text)\n",
    "    \n",
    "# destination\n",
    "dest9 = []\n",
    "dest9_ = driver.find_elements(By.XPATH,'//div[@class=\"flexOne timeInfoRight\"]/p[2]/font')\n",
    "for l in dest9_:\n",
    "    dest9.append(l.text)\n",
    "    \n",
    "# departure time\n",
    "dep_time9 = []\n",
    "dep_time9_ = driver.find_elements(By.XPATH,'//div[@class=\"flexOne timeInfoLeft\"]/p[1]/span')\n",
    "for m in dep_time9_:\n",
    "    dep_time9.append(m.text)\n",
    "    \n",
    "# arrival time\n",
    "arr_time9 = []\n",
    "arr_time9_ = driver.find_elements(By.XPATH,'//div[@class=\"flexOne timeInfoRight\"]/p[1]/span')\n",
    "for n in arr_time9_:\n",
    "    arr_time9.append(n.text)\n",
    "    \n",
    "for o in arr_time9:\n",
    "    if o=='+ 1 DAY':\n",
    "        arr_time9.remove(o)\n",
    "    \n",
    "# flight duration\n",
    "duration9 = []\n",
    "duration9_ = driver.find_elements(By.XPATH,'//div[@class=\"stop-info flexOne\"]/p')\n",
    "for p in duration9_:\n",
    "    duration9.append(p.text)\n",
    "    \n",
    "# layover\n",
    "layover9 = []\n",
    "layover9_ = driver.find_elements(By.XPATH,'//div[@class=\"stop-info flexOne\"]/div/p')\n",
    "for q in layover9_:\n",
    "    layover9.append(q.text)\n",
    "    \n",
    "# price\n",
    "price9 = []\n",
    "price9_ = driver.find_elements(By.XPATH,'//p[@class=\"blackText fontSize18 blackFont white-space-no-wrap\"]')\n",
    "for r in price9_:\n",
    "    price9.append(r.text.split( ))\n",
    "    \n",
    "Price9 = []\n",
    "for s in range(len(price9)):\n",
    "    Price9.append(eval(price9[s][1].replace(',','')))"
   ]
  },
  {
   "cell_type": "code",
   "execution_count": 567,
   "id": "ceb9b95a",
   "metadata": {},
   "outputs": [
    {
     "name": "stdout",
     "output_type": "stream",
     "text": [
      "25 25 25 25 25 25 25 25 25 25 25\n"
     ]
    }
   ],
   "source": [
    "print(len(airline9),len(code9),len(source9),len(dest9),len(dep_time9),len(arr_time9),len(duration9),len(layover9),len(Price9),len(date9),len(month9))"
   ]
  },
  {
   "cell_type": "code",
   "execution_count": 568,
   "id": "94b97e81",
   "metadata": {},
   "outputs": [],
   "source": [
    "df9 = pd.DataFrame()\n",
    "df9['Airline'] = airline9\n",
    "df9['Airline code'] = code9\n",
    "df9['Date of journey'] = date9\n",
    "df9['Month of journey'] = month9\n",
    "df9['Source'] = source9\n",
    "df9['Destination'] = dest9\n",
    "df9['Departure time'] = dep_time9\n",
    "df9['Arrival time'] = arr_time9\n",
    "df9['Flight duration'] = duration9\n",
    "df9['Type of flight'] = layover9\n",
    "df9['Price'] = Price9"
   ]
  },
  {
   "cell_type": "code",
   "execution_count": 569,
   "id": "b64c757e",
   "metadata": {},
   "outputs": [
    {
     "data": {
      "text/plain": [
       "(387, 11)"
      ]
     },
     "execution_count": 569,
     "metadata": {},
     "output_type": "execute_result"
    }
   ],
   "source": [
    "Df2 = pd.concat([df1,df2,df3,df4,df5,df6,df7,df8,df9])\n",
    "Df2.shape"
   ]
  },
  {
   "cell_type": "code",
   "execution_count": 570,
   "id": "6e34e14f",
   "metadata": {},
   "outputs": [],
   "source": [
    "Df2.to_csv('Mumbai_to_Kolkata.csv')"
   ]
  },
  {
   "cell_type": "markdown",
   "id": "3929e2de",
   "metadata": {},
   "source": [
    "## 3. Chennai to Hyderabad"
   ]
  },
  {
   "cell_type": "code",
   "execution_count": 594,
   "id": "e7f720bc",
   "metadata": {},
   "outputs": [],
   "source": [
    "from2 = driver.find_element(By.XPATH,'/html/body/div[1]/div/div[2]/header/div[1]/div/div[2]/input')\n",
    "from2.click()"
   ]
  },
  {
   "cell_type": "code",
   "execution_count": 595,
   "id": "8e93015d",
   "metadata": {},
   "outputs": [],
   "source": [
    "From2 = driver.find_element(By.XPATH,'/html/body/div[1]/div/div[2]/header/div[1]/div/div[2]/div[1]/form/div/input')\n",
    "From2.send_keys('Bangalore')"
   ]
  },
  {
   "cell_type": "code",
   "execution_count": 596,
   "id": "068b1229",
   "metadata": {},
   "outputs": [],
   "source": [
    "from2_click = driver.find_element(By.XPATH,'/html/body/div[1]/div/div[2]/header/div[1]/div/div[2]/div[1]/form/div/div/div/ul/li[1]/div/div/div/div/p[1]')\n",
    "from2_click.click()"
   ]
  },
  {
   "cell_type": "code",
   "execution_count": 597,
   "id": "e301ee9d",
   "metadata": {},
   "outputs": [],
   "source": [
    "to2_click = driver.find_element(By.XPATH,'/html/body/div[1]/div/div[2]/header/div[1]/div/div[4]/div[1]/form/div/input')\n",
    "to2_click.send_keys('Delhi')"
   ]
  },
  {
   "cell_type": "code",
   "execution_count": 598,
   "id": "5b677fad",
   "metadata": {},
   "outputs": [],
   "source": [
    "To2_click = driver.find_element(By.XPATH,'/html/body/div[1]/div/div[2]/header/div[1]/div/div[4]/div[1]/form/div/div/div/ul/li[1]/div/div/div/div/p[1]')\n",
    "To2_click.click()"
   ]
  },
  {
   "cell_type": "markdown",
   "id": "c24b52b8",
   "metadata": {},
   "source": [
    "## 30th Sept"
   ]
  },
  {
   "cell_type": "code",
   "execution_count": 599,
   "id": "2a9d2cf3",
   "metadata": {},
   "outputs": [],
   "source": [
    "dates2c = driver.find_element(By.XPATH,'//div[@class=\"DayPicker-Months\"]/div[1]/div[3]/div[5]/div[6]/div/p[1]')\n",
    "dates2c.click()"
   ]
  },
  {
   "cell_type": "code",
   "execution_count": 600,
   "id": "09e0687f",
   "metadata": {},
   "outputs": [],
   "source": [
    "search2c = driver.find_element(By.XPATH,'/html/body/div[1]/div/div[2]/header/div[1]/div/button')\n",
    "search2c.click()"
   ]
  },
  {
   "cell_type": "code",
   "execution_count": 607,
   "id": "b1716bad",
   "metadata": {},
   "outputs": [],
   "source": [
    "airline1 = []\n",
    "airline1_ = driver.find_elements(By.XPATH,'//p[@class=\"boldFont blackText airlineName\"]')\n",
    "for i in airline1_:\n",
    "    airline1.append(i.text)\n",
    "for _ in range(100):\n",
    "    driver.execute_script(\"window.scrollBy(0,100)\")\n",
    "    \n",
    "# code\n",
    "code1 = []\n",
    "code1_ = driver.find_elements(By.XPATH,'//p[@class=\"fliCode\"]')\n",
    "for j in code1_:\n",
    "    code1.append(j.text)\n",
    "    \n",
    "# date of journey\n",
    "date1 = []\n",
    "for i in range(len(airline1)):\n",
    "    date1.append(int(30))\n",
    "\n",
    "# month of journey\n",
    "month1 = []\n",
    "for j in range(len(airline1)):\n",
    "    month1.append(int(9))\n",
    "    \n",
    "#source\n",
    "source1 = []\n",
    "source1_ = driver.find_elements(By.XPATH,'//div[@class=\"flexOne timeInfoLeft\"]/p[2]/font')\n",
    "for k in source1_:\n",
    "    source1.append(k.text)\n",
    "    \n",
    "# destination\n",
    "dest1 = []\n",
    "dest1_ = driver.find_elements(By.XPATH,'//div[@class=\"flexOne timeInfoRight\"]/p[2]/font')\n",
    "for l in dest1_:\n",
    "    dest1.append(l.text)\n",
    "    \n",
    "# departure time\n",
    "dep_time1 = []\n",
    "dep_time1_ = driver.find_elements(By.XPATH,'//div[@class=\"flexOne timeInfoLeft\"]/p[1]/span')\n",
    "for m in dep_time1_:\n",
    "    dep_time1.append(m.text)\n",
    "    \n",
    "# arrival time\n",
    "arr_time1 = []\n",
    "arr_time1_ = driver.find_elements(By.XPATH,'//div[@class=\"flexOne timeInfoRight\"]/p[1]/span')\n",
    "for n in arr_time1_:\n",
    "    arr_time1.append(n.text)\n",
    "    \n",
    "for o in arr_time1:\n",
    "    if o=='+ 1 DAY':\n",
    "        arr_time1.remove(o)\n",
    "    \n",
    "# flight duration\n",
    "duration1 = []\n",
    "duration1_ = driver.find_elements(By.XPATH,'//div[@class=\"stop-info flexOne\"]/p')\n",
    "for p in duration1_:\n",
    "    duration1.append(p.text)\n",
    "    \n",
    "# layover\n",
    "layover1 = []\n",
    "layover1_ = driver.find_elements(By.XPATH,'//div[@class=\"stop-info flexOne\"]/div/p')\n",
    "for q in layover1_:\n",
    "    layover1.append(q.text)\n",
    "    \n",
    "# price\n",
    "price1 = []\n",
    "price1_ = driver.find_elements(By.XPATH,'//p[@class=\"blackText fontSize18 blackFont white-space-no-wrap\"]')\n",
    "for r in price1_:\n",
    "    price1.append(r.text.split( ))\n",
    "    \n",
    "Price1 = []\n",
    "for s in range(len(price1)):\n",
    "    Price1.append(eval(price1[s][1].replace(',','')))"
   ]
  },
  {
   "cell_type": "code",
   "execution_count": 608,
   "id": "f6b8502c",
   "metadata": {},
   "outputs": [
    {
     "name": "stdout",
     "output_type": "stream",
     "text": [
      "34 34 34 34 34 34 34 34 34 34 34\n"
     ]
    }
   ],
   "source": [
    "print(len(airline1),len(code1),len(source1),len(dest1),len(dep_time1),len(arr_time1),len(duration1),len(layover1),len(Price1),len(date1),len(month1))"
   ]
  },
  {
   "cell_type": "code",
   "execution_count": 609,
   "id": "f147d29e",
   "metadata": {},
   "outputs": [],
   "source": [
    "df1 = pd.DataFrame()\n",
    "df1['Airline'] = airline1\n",
    "df1['Airline code'] = code1\n",
    "df1['Date of journey'] = date1\n",
    "df1['Month of journey'] = month1\n",
    "df1['Source'] = source1\n",
    "df1['Destination'] = dest1\n",
    "df1['Departure time'] = dep_time1\n",
    "df1['Arrival time'] = arr_time1\n",
    "df1['Flight duration'] = duration1\n",
    "df1['Type of flight'] = layover1\n",
    "df1['Price'] = Price1"
   ]
  },
  {
   "cell_type": "markdown",
   "id": "211324a9",
   "metadata": {},
   "source": [
    "## 1st October"
   ]
  },
  {
   "cell_type": "code",
   "execution_count": 611,
   "id": "0eaa84b6",
   "metadata": {},
   "outputs": [],
   "source": [
    "date2b = driver.find_element(By.ID,\"departure\")\n",
    "date2b.click()"
   ]
  },
  {
   "cell_type": "code",
   "execution_count": 613,
   "id": "bdca4b52",
   "metadata": {},
   "outputs": [],
   "source": [
    "dates2b = driver.find_element(By.XPATH,'//div[@class=\"DayPicker-Months\"]/div[2]/div[3]/div[1]/div[7]/div/p[1]')\n",
    "dates2b.click()"
   ]
  },
  {
   "cell_type": "code",
   "execution_count": 614,
   "id": "ae9b3409",
   "metadata": {},
   "outputs": [],
   "source": [
    "search2c = driver.find_element(By.XPATH,'/html/body/div[1]/div/div[2]/header/div[1]/div/button')\n",
    "search2c.click()"
   ]
  },
  {
   "cell_type": "code",
   "execution_count": 617,
   "id": "1aa6225e",
   "metadata": {},
   "outputs": [],
   "source": [
    "airline2 = []\n",
    "airline2_ = driver.find_elements(By.XPATH,'//p[@class=\"boldFont blackText airlineName\"]')\n",
    "for i in airline2_:\n",
    "    airline2.append(i.text)\n",
    "for _ in range(100):\n",
    "    driver.execute_script(\"window.scrollBy(0,100)\")\n",
    "    \n",
    "# code\n",
    "code2 = []\n",
    "code2_ = driver.find_elements(By.XPATH,'//p[@class=\"fliCode\"]')\n",
    "for j in code2_:\n",
    "    code2.append(j.text)\n",
    "\n",
    "# date of journey\n",
    "date2 = []\n",
    "for i in range(len(airline2)):\n",
    "    date2.append(int(1))\n",
    "\n",
    "# month of journey\n",
    "month2 = []\n",
    "for j in range(len(airline2)):\n",
    "    month2.append(int(10))\n",
    "    \n",
    "#source\n",
    "source2 = []\n",
    "source2_ = driver.find_elements(By.XPATH,'//div[@class=\"flexOne timeInfoLeft\"]/p[2]/font')\n",
    "for k in source2_:\n",
    "    source2.append(k.text)\n",
    "    \n",
    "# destination\n",
    "dest2 = []\n",
    "dest2_ = driver.find_elements(By.XPATH,'//div[@class=\"flexOne timeInfoRight\"]/p[2]/font')\n",
    "for l in dest2_:\n",
    "    dest2.append(l.text)\n",
    "    \n",
    "# departure time\n",
    "dep_time2 = []\n",
    "dep_time2_ = driver.find_elements(By.XPATH,'//div[@class=\"flexOne timeInfoLeft\"]/p[1]/span')\n",
    "for m in dep_time2_:\n",
    "    dep_time2.append(m.text)\n",
    "    \n",
    "# arrival time\n",
    "arr_time2 = []\n",
    "arr_time2_ = driver.find_elements(By.XPATH,'//div[@class=\"flexOne timeInfoRight\"]/p[1]/span')\n",
    "for n in arr_time2_:\n",
    "    arr_time2.append(n.text)\n",
    "    \n",
    "for o in arr_time2:\n",
    "    if o=='+ 1 DAY':\n",
    "        arr_time2.remove(o)\n",
    "    \n",
    "# flight duration\n",
    "duration2 = []\n",
    "duration2_ = driver.find_elements(By.XPATH,'//div[@class=\"stop-info flexOne\"]/p')\n",
    "for p in duration2_:\n",
    "    duration2.append(p.text)\n",
    "    \n",
    "# layover\n",
    "layover2 = []\n",
    "layover2_ = driver.find_elements(By.XPATH,'//div[@class=\"stop-info flexOne\"]/div/p')\n",
    "for q in layover2_:\n",
    "    layover2.append(q.text)\n",
    "    \n",
    "# price\n",
    "price2 = []\n",
    "price2_ = driver.find_elements(By.XPATH,'//p[@class=\"blackText fontSize18 blackFont white-space-no-wrap\"]')\n",
    "for r in price2_:\n",
    "    price2.append(r.text.split( ))\n",
    "    \n",
    "Price2 = []\n",
    "for s in range(len(price2)):\n",
    "    Price2.append(eval(price2[s][1].replace(',','')))"
   ]
  },
  {
   "cell_type": "code",
   "execution_count": 618,
   "id": "09667f39",
   "metadata": {},
   "outputs": [
    {
     "name": "stdout",
     "output_type": "stream",
     "text": [
      "42 42 42 42 42 42 42 42 42 42 42\n"
     ]
    }
   ],
   "source": [
    "print(len(airline2),len(code2),len(source2),len(dest2),len(dep_time2),len(arr_time2),len(duration2),len(layover2),len(Price2),len(date2),len(month2))"
   ]
  },
  {
   "cell_type": "code",
   "execution_count": 619,
   "id": "70504508",
   "metadata": {},
   "outputs": [],
   "source": [
    "df2 = pd.DataFrame()\n",
    "df2['Airline'] = airline2\n",
    "df2['Airline code'] = code2\n",
    "df2['Date of journey'] = date2\n",
    "df2['Month of journey'] = month2\n",
    "df2['Source'] = source2\n",
    "df2['Destination'] = dest2\n",
    "df2['Departure time'] = dep_time2\n",
    "df2['Arrival time'] = arr_time2\n",
    "df2['Flight duration'] = duration2\n",
    "df2['Type of flight'] = layover2\n",
    "df2['Price'] = Price2"
   ]
  },
  {
   "cell_type": "markdown",
   "id": "0f771635",
   "metadata": {},
   "source": [
    "## 2nd Oct"
   ]
  },
  {
   "cell_type": "code",
   "execution_count": 621,
   "id": "8ead09ac",
   "metadata": {},
   "outputs": [],
   "source": [
    "date2c = driver.find_element(By.ID,\"departure\")\n",
    "date2c.click()"
   ]
  },
  {
   "cell_type": "code",
   "execution_count": 622,
   "id": "9ba102c3",
   "metadata": {},
   "outputs": [],
   "source": [
    "dates2c = driver.find_element(By.XPATH,'//div[@class=\"DayPicker-Months\"]/div[1]/div[3]/div[2]/div[1]/div/p[1]')\n",
    "dates2c.click()"
   ]
  },
  {
   "cell_type": "code",
   "execution_count": 623,
   "id": "3088ca6d",
   "metadata": {},
   "outputs": [],
   "source": [
    "search2c = driver.find_element(By.XPATH,'/html/body/div[1]/div/div[2]/header/div[1]/div/button')\n",
    "search2c.click()"
   ]
  },
  {
   "cell_type": "code",
   "execution_count": 626,
   "id": "7a97d374",
   "metadata": {},
   "outputs": [],
   "source": [
    "airline3 = []\n",
    "airline3_ = driver.find_elements(By.XPATH,'//p[@class=\"boldFont blackText airlineName\"]')\n",
    "for i in airline3_:\n",
    "    airline3.append(i.text)\n",
    "for _ in range(100):\n",
    "    driver.execute_script(\"window.scrollBy(0,100)\")\n",
    "    \n",
    "# code\n",
    "code3 = []\n",
    "code3_ = driver.find_elements(By.XPATH,'//p[@class=\"fliCode\"]')\n",
    "for j in code3_:\n",
    "    code3.append(j.text)\n",
    "    \n",
    "# date of journey\n",
    "date3 = []\n",
    "for i in range(len(airline3)):\n",
    "    date3.append(int(2))\n",
    "\n",
    "# month of journey\n",
    "month3 = []\n",
    "for j in range(len(airline3)):\n",
    "    month3.append(int(10))\n",
    "    \n",
    "#source\n",
    "source3 = []\n",
    "source3_ = driver.find_elements(By.XPATH,'//div[@class=\"flexOne timeInfoLeft\"]/p[2]/font')\n",
    "for k in source3_:\n",
    "    source3.append(k.text)\n",
    "    \n",
    "# destination\n",
    "dest3 = []\n",
    "dest3_ = driver.find_elements(By.XPATH,'//div[@class=\"flexOne timeInfoRight\"]/p[2]/font')\n",
    "for l in dest3_:\n",
    "    dest3.append(l.text)\n",
    "    \n",
    "# departure time\n",
    "dep_time3 = []\n",
    "dep_time3_ = driver.find_elements(By.XPATH,'//div[@class=\"flexOne timeInfoLeft\"]/p[1]/span')\n",
    "for m in dep_time3_:\n",
    "    dep_time3.append(m.text)\n",
    "    \n",
    "# arrival time\n",
    "arr_time3 = []\n",
    "arr_time3_ = driver.find_elements(By.XPATH,'//div[@class=\"flexOne timeInfoRight\"]/p[1]/span')\n",
    "for n in arr_time3_:\n",
    "    arr_time3.append(n.text)\n",
    "    \n",
    "for o in arr_time3:\n",
    "    if o=='+ 1 DAY':\n",
    "        arr_time3.remove(o)\n",
    "    \n",
    "# flight duration\n",
    "duration3 = []\n",
    "duration3_ = driver.find_elements(By.XPATH,'//div[@class=\"stop-info flexOne\"]/p')\n",
    "for p in duration3_:\n",
    "    duration3.append(p.text)\n",
    "    \n",
    "# layover\n",
    "layover3 = []\n",
    "layover3_ = driver.find_elements(By.XPATH,'//div[@class=\"stop-info flexOne\"]/div/p')\n",
    "for q in layover3_:\n",
    "    layover3.append(q.text)\n",
    "    \n",
    "# price\n",
    "price3 = []\n",
    "price3_ = driver.find_elements(By.XPATH,'//p[@class=\"blackText fontSize18 blackFont white-space-no-wrap\"]')\n",
    "for r in price3_:\n",
    "    price3.append(r.text.split( ))\n",
    "    \n",
    "Price3 = []\n",
    "for s in range(len(price3)):\n",
    "    Price3.append(eval(price3[s][1].replace(',','')))"
   ]
  },
  {
   "cell_type": "code",
   "execution_count": 627,
   "id": "b69b4bb2",
   "metadata": {},
   "outputs": [
    {
     "name": "stdout",
     "output_type": "stream",
     "text": [
      "49 49 49 49 49 49 49 49 49 49 49\n"
     ]
    }
   ],
   "source": [
    "print(len(airline3),len(code3),len(source3),len(dest3),len(dep_time3),len(arr_time3),len(duration3),len(layover3),len(Price3),len(date3),len(month3))"
   ]
  },
  {
   "cell_type": "code",
   "execution_count": 628,
   "id": "9231fa06",
   "metadata": {},
   "outputs": [],
   "source": [
    "df3 = pd.DataFrame()\n",
    "df3['Airline'] = airline3\n",
    "df3['Airline code'] = code3\n",
    "df3['Date of journey'] = date3\n",
    "df3['Month of journey'] = month3\n",
    "df3['Source'] = source3\n",
    "df3['Destination'] = dest3\n",
    "df3['Departure time'] = dep_time3\n",
    "df3['Arrival time'] = arr_time3\n",
    "df3['Flight duration'] = duration3\n",
    "df3['Type of flight'] = layover3\n",
    "df3['Price'] = Price3"
   ]
  },
  {
   "cell_type": "markdown",
   "id": "f82effcf",
   "metadata": {},
   "source": [
    "## 3rd Oct"
   ]
  },
  {
   "cell_type": "code",
   "execution_count": 630,
   "id": "f2f00318",
   "metadata": {},
   "outputs": [],
   "source": [
    "date2c = driver.find_element(By.ID,\"departure\")\n",
    "date2c.click()"
   ]
  },
  {
   "cell_type": "code",
   "execution_count": 631,
   "id": "cf2ca4e5",
   "metadata": {},
   "outputs": [],
   "source": [
    "dates2c = driver.find_element(By.XPATH,'//div[@class=\"DayPicker-Months\"]/div[1]/div[3]/div[2]/div[2]/div/p[1]')\n",
    "dates2c.click()"
   ]
  },
  {
   "cell_type": "code",
   "execution_count": 632,
   "id": "1d1ea5a9",
   "metadata": {},
   "outputs": [],
   "source": [
    "search2c = driver.find_element(By.XPATH,'/html/body/div[1]/div/div[2]/header/div[1]/div/button')\n",
    "search2c.click()"
   ]
  },
  {
   "cell_type": "code",
   "execution_count": 635,
   "id": "8f11e736",
   "metadata": {},
   "outputs": [],
   "source": [
    "airline4 = []\n",
    "airline4_ = driver.find_elements(By.XPATH,'//p[@class=\"boldFont blackText airlineName\"]')\n",
    "for i in airline4_:\n",
    "    airline4.append(i.text)\n",
    "for _ in range(100):\n",
    "    driver.execute_script(\"window.scrollBy(0,100)\")\n",
    "    \n",
    "# code\n",
    "code4 = []\n",
    "code4_ = driver.find_elements(By.XPATH,'//p[@class=\"fliCode\"]')\n",
    "for j in code4_:\n",
    "    code4.append(j.text)\n",
    "    \n",
    "# date of journey\n",
    "date4 = []\n",
    "for i in range(len(airline4)):\n",
    "    date4.append(int(3))\n",
    "\n",
    "# month of journey\n",
    "month4 = []\n",
    "for j in range(len(airline4)):\n",
    "    month4.append(int(10))\n",
    "    \n",
    "#source\n",
    "source4 = []\n",
    "source4_ = driver.find_elements(By.XPATH,'//div[@class=\"flexOne timeInfoLeft\"]/p[2]/font')\n",
    "for k in source4_:\n",
    "    source4.append(k.text)\n",
    "    \n",
    "# destination\n",
    "dest4 = []\n",
    "dest4_ = driver.find_elements(By.XPATH,'//div[@class=\"flexOne timeInfoRight\"]/p[2]/font')\n",
    "for l in dest4_:\n",
    "    dest4.append(l.text)\n",
    "    \n",
    "# departure time\n",
    "dep_time4 = []\n",
    "dep_time4_ = driver.find_elements(By.XPATH,'//div[@class=\"flexOne timeInfoLeft\"]/p[1]/span')\n",
    "for m in dep_time4_:\n",
    "    dep_time4.append(m.text)\n",
    "    \n",
    "# arrival time\n",
    "arr_time4 = []\n",
    "arr_time4_ = driver.find_elements(By.XPATH,'//div[@class=\"flexOne timeInfoRight\"]/p[1]/span')\n",
    "for n in arr_time4_:\n",
    "    arr_time4.append(n.text)\n",
    "    \n",
    "for o in arr_time4:\n",
    "    if o=='+ 1 DAY':\n",
    "        arr_time4.remove(o)\n",
    "    \n",
    "# flight duration\n",
    "duration4 = []\n",
    "duration4_ = driver.find_elements(By.XPATH,'//div[@class=\"stop-info flexOne\"]/p')\n",
    "for p in duration4_:\n",
    "    duration4.append(p.text)\n",
    "    \n",
    "# layover\n",
    "layover4 = []\n",
    "layover4_ = driver.find_elements(By.XPATH,'//div[@class=\"stop-info flexOne\"]/div/p')\n",
    "for q in layover4_:\n",
    "    layover4.append(q.text)\n",
    "    \n",
    "# price\n",
    "price4 = []\n",
    "price4_ = driver.find_elements(By.XPATH,'//p[@class=\"blackText fontSize18 blackFont white-space-no-wrap\"]')\n",
    "for r in price4_:\n",
    "    price4.append(r.text.split( ))\n",
    "    \n",
    "Price4 = []\n",
    "for s in range(len(price4)):\n",
    "    Price4.append(eval(price4[s][1].replace(',','')))"
   ]
  },
  {
   "cell_type": "code",
   "execution_count": 636,
   "id": "9fcb9473",
   "metadata": {},
   "outputs": [
    {
     "name": "stdout",
     "output_type": "stream",
     "text": [
      "48 48 48 48 48 48 48 48 48 48 48\n"
     ]
    }
   ],
   "source": [
    "print(len(airline4),len(code4),len(source4),len(dest4),len(dep_time4),len(arr_time4),len(duration4),len(layover4),len(Price4),len(date4),len(month4))"
   ]
  },
  {
   "cell_type": "code",
   "execution_count": 637,
   "id": "48f7838b",
   "metadata": {},
   "outputs": [],
   "source": [
    "df4 = pd.DataFrame()\n",
    "df4['Airline'] = airline4\n",
    "df4['Airline code'] = code4\n",
    "df4['Date of journey'] = date4\n",
    "df4['Month of journey'] = month4\n",
    "df4['Source'] = source4\n",
    "df4['Destination'] = dest4\n",
    "df4['Departure time'] = dep_time4\n",
    "df4['Arrival time'] = arr_time4\n",
    "df4['Flight duration'] = duration4\n",
    "df4['Type of flight'] = layover4\n",
    "df4['Price'] = Price4"
   ]
  },
  {
   "cell_type": "markdown",
   "id": "6460597b",
   "metadata": {},
   "source": [
    "## 4th Oct"
   ]
  },
  {
   "cell_type": "code",
   "execution_count": 639,
   "id": "7bcbc3d5",
   "metadata": {},
   "outputs": [],
   "source": [
    "date2c = driver.find_element(By.ID,\"departure\")\n",
    "date2c.click()"
   ]
  },
  {
   "cell_type": "code",
   "execution_count": 640,
   "id": "e4466af7",
   "metadata": {},
   "outputs": [],
   "source": [
    "dates2c = driver.find_element(By.XPATH,'//div[@class=\"DayPicker-Months\"]/div[1]/div[3]/div[2]/div[3]/div/p[1]')\n",
    "dates2c.click()"
   ]
  },
  {
   "cell_type": "code",
   "execution_count": 641,
   "id": "dae63591",
   "metadata": {},
   "outputs": [],
   "source": [
    "search2c = driver.find_element(By.XPATH,'/html/body/div[1]/div/div[2]/header/div[1]/div/button')\n",
    "search2c.click()"
   ]
  },
  {
   "cell_type": "code",
   "execution_count": 648,
   "id": "c9f68b28",
   "metadata": {},
   "outputs": [],
   "source": [
    "airline5 = []\n",
    "airline5_ = driver.find_elements(By.XPATH,'//p[@class=\"boldFont blackText airlineName\"]')\n",
    "for i in airline5_:\n",
    "    airline5.append(i.text)\n",
    "for _ in range(100):\n",
    "    driver.execute_script(\"window.scrollBy(0,100)\")\n",
    "    \n",
    "# code\n",
    "code5 = []\n",
    "code5_ = driver.find_elements(By.XPATH,'//p[@class=\"fliCode\"]')\n",
    "for j in code5_:\n",
    "    code5.append(j.text)\n",
    "    \n",
    "# date of journey\n",
    "date5 = []\n",
    "for i in range(len(airline5)):\n",
    "    date5.append(int(4))\n",
    "\n",
    "# month of journey\n",
    "month5 = []\n",
    "for j in range(len(airline5)):\n",
    "    month5.append(int(10))\n",
    "    \n",
    "#source\n",
    "source5 = []\n",
    "source5_ = driver.find_elements(By.XPATH,'//div[@class=\"flexOne timeInfoLeft\"]/p[2]/font')\n",
    "for k in source5_:\n",
    "    source5.append(k.text)\n",
    "    \n",
    "# destination\n",
    "dest5 = []\n",
    "dest5_ = driver.find_elements(By.XPATH,'//div[@class=\"flexOne timeInfoRight\"]/p[2]/font')\n",
    "for l in dest5_:\n",
    "    dest5.append(l.text)\n",
    "    \n",
    "# departure time\n",
    "dep_time5 = []\n",
    "dep_time5_ = driver.find_elements(By.XPATH,'//div[@class=\"flexOne timeInfoLeft\"]/p[1]/span')\n",
    "for m in dep_time5_:\n",
    "    dep_time5.append(m.text)\n",
    "    \n",
    "# arrival time\n",
    "arr_time5 = []\n",
    "arr_time5_ = driver.find_elements(By.XPATH,'//div[@class=\"flexOne timeInfoRight\"]/p[1]/span')\n",
    "for n in arr_time5_:\n",
    "    arr_time5.append(n.text)\n",
    "    \n",
    "for o in arr_time5:\n",
    "    if o=='+ 1 DAY':\n",
    "        arr_time5.remove(o)\n",
    "    \n",
    "# flight duration\n",
    "duration5 = []\n",
    "duration5_ = driver.find_elements(By.XPATH,'//div[@class=\"stop-info flexOne\"]/p')\n",
    "for p in duration5_:\n",
    "    duration5.append(p.text)\n",
    "    \n",
    "# layover\n",
    "layover5 = []\n",
    "layover5_ = driver.find_elements(By.XPATH,'//div[@class=\"stop-info flexOne\"]/div/p')\n",
    "for q in layover5_:\n",
    "    layover5.append(q.text)\n",
    "    \n",
    "# price\n",
    "price5 = []\n",
    "price5_ = driver.find_elements(By.XPATH,'//p[@class=\"blackText fontSize18 blackFont white-space-no-wrap\"]')\n",
    "for r in price5_:\n",
    "    price5.append(r.text.split( ))\n",
    "    \n",
    "Price5 = []\n",
    "for s in range(len(price5)):\n",
    "    Price5.append(eval(price5[s][1].replace(',','')))"
   ]
  },
  {
   "cell_type": "code",
   "execution_count": 649,
   "id": "e93f1620",
   "metadata": {},
   "outputs": [
    {
     "name": "stdout",
     "output_type": "stream",
     "text": [
      "46 46 46 46 46 46 46 46 46 46 46\n"
     ]
    }
   ],
   "source": [
    "print(len(airline5),len(code5),len(source5),len(dest5),len(dep_time5),len(arr_time5),len(duration5),len(layover5),len(Price5),len(date5),len(month5))"
   ]
  },
  {
   "cell_type": "code",
   "execution_count": 650,
   "id": "104f1a21",
   "metadata": {},
   "outputs": [],
   "source": [
    "df5 = pd.DataFrame()\n",
    "df5['Airline'] = airline5\n",
    "df5['Airline code'] = code5\n",
    "df5['Date of journey'] = date5\n",
    "df5['Month of journey'] = month5\n",
    "df5['Source'] = source5\n",
    "df5['Destination'] = dest5\n",
    "df5['Departure time'] = dep_time5\n",
    "df5['Arrival time'] = arr_time5\n",
    "df5['Flight duration'] = duration5\n",
    "df5['Type of flight'] = layover5\n",
    "df5['Price'] = Price5"
   ]
  },
  {
   "cell_type": "markdown",
   "id": "462b6fbc",
   "metadata": {},
   "source": [
    "## 5th Oct"
   ]
  },
  {
   "cell_type": "code",
   "execution_count": 651,
   "id": "b1329064",
   "metadata": {},
   "outputs": [],
   "source": [
    "date2c = driver.find_element(By.ID,\"departure\")\n",
    "date2c.click()"
   ]
  },
  {
   "cell_type": "code",
   "execution_count": 652,
   "id": "5bcce540",
   "metadata": {},
   "outputs": [],
   "source": [
    "dates2c = driver.find_element(By.XPATH,'//div[@class=\"DayPicker-Months\"]/div[1]/div[3]/div[2]/div[4]/div/p[1]')\n",
    "dates2c.click()"
   ]
  },
  {
   "cell_type": "code",
   "execution_count": 653,
   "id": "5a96de82",
   "metadata": {},
   "outputs": [],
   "source": [
    "search2c = driver.find_element(By.XPATH,'/html/body/div[1]/div/div[2]/header/div[1]/div/button')\n",
    "search2c.click()"
   ]
  },
  {
   "cell_type": "code",
   "execution_count": 658,
   "id": "de4ac975",
   "metadata": {},
   "outputs": [],
   "source": [
    "airline6 = []\n",
    "airline6_ = driver.find_elements(By.XPATH,'//p[@class=\"boldFont blackText airlineName\"]')\n",
    "for i in airline6_:\n",
    "    airline6.append(i.text)\n",
    "for _ in range(100):\n",
    "    driver.execute_script(\"window.scrollBy(0,100)\")\n",
    "    \n",
    "# code\n",
    "code6 = []\n",
    "code6_ = driver.find_elements(By.XPATH,'//p[@class=\"fliCode\"]')\n",
    "for j in code6_:\n",
    "    code6.append(j.text)\n",
    "    \n",
    "# date of journey\n",
    "date6 = []\n",
    "for i in range(len(airline6)):\n",
    "    date6.append(int(5))\n",
    "\n",
    "# month of journey\n",
    "month6 = []\n",
    "for j in range(len(airline6)):\n",
    "    month6.append(int(10))\n",
    "    \n",
    "#source\n",
    "source6 = []\n",
    "source6_ = driver.find_elements(By.XPATH,'//div[@class=\"flexOne timeInfoLeft\"]/p[2]/font')\n",
    "for k in source6_:\n",
    "    source6.append(k.text)\n",
    "    \n",
    "# destination\n",
    "dest6 = []\n",
    "dest6_ = driver.find_elements(By.XPATH,'//div[@class=\"flexOne timeInfoRight\"]/p[2]/font')\n",
    "for l in dest6_:\n",
    "    dest6.append(l.text)\n",
    "    \n",
    "# departure time\n",
    "dep_time6 = []\n",
    "dep_time6_ = driver.find_elements(By.XPATH,'//div[@class=\"flexOne timeInfoLeft\"]/p[1]/span')\n",
    "for m in dep_time6_:\n",
    "    dep_time6.append(m.text)\n",
    "    \n",
    "# arrival time\n",
    "arr_time6 = []\n",
    "arr_time6_ = driver.find_elements(By.XPATH,'//div[@class=\"flexOne timeInfoRight\"]/p[1]/span')\n",
    "for n in arr_time6_:\n",
    "    arr_time6.append(n.text)\n",
    "    \n",
    "for o in arr_time6:\n",
    "    if o=='+ 1 DAY':\n",
    "        arr_time6.remove(o)\n",
    "    \n",
    "# flight duration\n",
    "duration6 = []\n",
    "duration6_ = driver.find_elements(By.XPATH,'//div[@class=\"stop-info flexOne\"]/p')\n",
    "for p in duration6_:\n",
    "    duration6.append(p.text)\n",
    "    \n",
    "# layover\n",
    "layover6 = []\n",
    "layover6_ = driver.find_elements(By.XPATH,'//div[@class=\"stop-info flexOne\"]/div/p')\n",
    "for q in layover6_:\n",
    "    layover6.append(q.text)\n",
    "    \n",
    "# price\n",
    "price6 = []\n",
    "price6_ = driver.find_elements(By.XPATH,'//p[@class=\"blackText fontSize18 blackFont white-space-no-wrap\"]')\n",
    "for r in price6_:\n",
    "    price6.append(r.text.split( ))\n",
    "    \n",
    "Price6 = []\n",
    "for s in range(len(price6)):\n",
    "    Price6.append(eval(price6[s][1].replace(',','')))"
   ]
  },
  {
   "cell_type": "code",
   "execution_count": 659,
   "id": "4654fa1a",
   "metadata": {},
   "outputs": [
    {
     "name": "stdout",
     "output_type": "stream",
     "text": [
      "47 47 47 47 47 47 47 47 47 47 47\n"
     ]
    }
   ],
   "source": [
    "print(len(airline6),len(code6),len(source6),len(dest6),len(dep_time6),len(arr_time6),len(duration6),len(layover6),len(Price6),len(date6),len(month6))"
   ]
  },
  {
   "cell_type": "code",
   "execution_count": 660,
   "id": "991ff938",
   "metadata": {},
   "outputs": [],
   "source": [
    "df6 = pd.DataFrame()\n",
    "df6['Airline'] = airline6\n",
    "df6['Airline code'] = code6\n",
    "df6['Date of journey'] = date6\n",
    "df6['Month of journey'] = month6\n",
    "df6['Source'] = source6\n",
    "df6['Destination'] = dest6\n",
    "df6['Departure time'] = dep_time6\n",
    "df6['Arrival time'] = arr_time6\n",
    "df6['Flight duration'] = duration6\n",
    "df6['Type of flight'] = layover6\n",
    "df6['Price'] = Price6"
   ]
  },
  {
   "cell_type": "markdown",
   "id": "8e2573b1",
   "metadata": {},
   "source": [
    "## 6th Oct"
   ]
  },
  {
   "cell_type": "code",
   "execution_count": 661,
   "id": "4d3c505b",
   "metadata": {},
   "outputs": [],
   "source": [
    "date2c = driver.find_element(By.ID,\"departure\")\n",
    "date2c.click()"
   ]
  },
  {
   "cell_type": "code",
   "execution_count": 662,
   "id": "9ea0ff17",
   "metadata": {},
   "outputs": [],
   "source": [
    "dates2c = driver.find_element(By.XPATH,'//div[@class=\"DayPicker-Months\"]/div[1]/div[3]/div[2]/div[5]/div/p[1]')\n",
    "dates2c.click()"
   ]
  },
  {
   "cell_type": "code",
   "execution_count": 663,
   "id": "d9f19ac2",
   "metadata": {},
   "outputs": [],
   "source": [
    "search2c = driver.find_element(By.XPATH,'/html/body/div[1]/div/div[2]/header/div[1]/div/button')\n",
    "search2c.click()"
   ]
  },
  {
   "cell_type": "code",
   "execution_count": 666,
   "id": "3a2e0531",
   "metadata": {},
   "outputs": [],
   "source": [
    "airline7 = []\n",
    "airline7_ = driver.find_elements(By.XPATH,'//p[@class=\"boldFont blackText airlineName\"]')\n",
    "for i in airline7_:\n",
    "    airline7.append(i.text)\n",
    "for _ in range(100):\n",
    "    driver.execute_script(\"window.scrollBy(0,100)\")\n",
    "    \n",
    "# code\n",
    "code7 = []\n",
    "code7_ = driver.find_elements(By.XPATH,'//p[@class=\"fliCode\"]')\n",
    "for j in code7_:\n",
    "    code7.append(j.text)\n",
    "    \n",
    "# date of journey\n",
    "date7 = []\n",
    "for i in range(len(airline7)):\n",
    "    date7.append(int(6))\n",
    "\n",
    "# month of journey\n",
    "month7 = []\n",
    "for j in range(len(airline7)):\n",
    "    month7.append(int(10))\n",
    "    \n",
    "#source\n",
    "source7 = []\n",
    "source7_ = driver.find_elements(By.XPATH,'//div[@class=\"flexOne timeInfoLeft\"]/p[2]/font')\n",
    "for k in source7_:\n",
    "    source7.append(k.text)\n",
    "    \n",
    "# destination\n",
    "dest7 = []\n",
    "dest7_ = driver.find_elements(By.XPATH,'//div[@class=\"flexOne timeInfoRight\"]/p[2]/font')\n",
    "for l in dest7_:\n",
    "    dest7.append(l.text)\n",
    "    \n",
    "# departure time\n",
    "dep_time7 = []\n",
    "dep_time7_ = driver.find_elements(By.XPATH,'//div[@class=\"flexOne timeInfoLeft\"]/p[1]/span')\n",
    "for m in dep_time7_:\n",
    "    dep_time7.append(m.text)\n",
    "    \n",
    "# arrival time\n",
    "arr_time7 = []\n",
    "arr_time7_ = driver.find_elements(By.XPATH,'//div[@class=\"flexOne timeInfoRight\"]/p[1]/span')\n",
    "for n in arr_time7_:\n",
    "    arr_time7.append(n.text)\n",
    "    \n",
    "for o in arr_time7:\n",
    "    if o=='+ 1 DAY':\n",
    "        arr_time7.remove(o)\n",
    "    \n",
    "# flight duration\n",
    "duration7 = []\n",
    "duration7_ = driver.find_elements(By.XPATH,'//div[@class=\"stop-info flexOne\"]/p')\n",
    "for p in duration7_:\n",
    "    duration7.append(p.text)\n",
    "    \n",
    "# layover\n",
    "layover7 = []\n",
    "layover7_ = driver.find_elements(By.XPATH,'//div[@class=\"stop-info flexOne\"]/div/p')\n",
    "for q in layover7_:\n",
    "    layover7.append(q.text)\n",
    "    \n",
    "# price\n",
    "price7 = []\n",
    "price7_ = driver.find_elements(By.XPATH,'//p[@class=\"blackText fontSize18 blackFont white-space-no-wrap\"]')\n",
    "for r in price7_:\n",
    "    price7.append(r.text.split( ))\n",
    "    \n",
    "Price7 = []\n",
    "for s in range(len(price7)):\n",
    "    Price7.append(eval(price7[s][1].replace(',','')))"
   ]
  },
  {
   "cell_type": "code",
   "execution_count": 667,
   "id": "e6f11514",
   "metadata": {},
   "outputs": [
    {
     "name": "stdout",
     "output_type": "stream",
     "text": [
      "50 50 50 50 50 50 50 50 50 50 50\n"
     ]
    }
   ],
   "source": [
    "print(len(airline7),len(code7),len(source7),len(dest7),len(dep_time7),len(arr_time7),len(duration7),len(layover7),len(Price7),len(date7),len(month7))"
   ]
  },
  {
   "cell_type": "code",
   "execution_count": 668,
   "id": "dc196b83",
   "metadata": {},
   "outputs": [],
   "source": [
    "df7 = pd.DataFrame()\n",
    "df7['Airline'] = airline7\n",
    "df7['Airline code'] = code7\n",
    "df7['Date of journey'] = date7\n",
    "df7['Month of journey'] = month7\n",
    "df7['Source'] = source7\n",
    "df7['Destination'] = dest7\n",
    "df7['Departure time'] = dep_time7\n",
    "df7['Arrival time'] = arr_time7\n",
    "df7['Flight duration'] = duration7\n",
    "df7['Type of flight'] = layover7\n",
    "df7['Price'] = Price7"
   ]
  },
  {
   "cell_type": "markdown",
   "id": "bb0117a2",
   "metadata": {},
   "source": [
    "## 7th Oct"
   ]
  },
  {
   "cell_type": "code",
   "execution_count": 669,
   "id": "6f706869",
   "metadata": {},
   "outputs": [],
   "source": [
    "date2c = driver.find_element(By.ID,\"departure\")\n",
    "date2c.click()"
   ]
  },
  {
   "cell_type": "code",
   "execution_count": 670,
   "id": "d6063ff9",
   "metadata": {},
   "outputs": [],
   "source": [
    "dates2c = driver.find_element(By.XPATH,'//div[@class=\"DayPicker-Months\"]/div[1]/div[3]/div[2]/div[6]/div/p[1]')\n",
    "dates2c.click()"
   ]
  },
  {
   "cell_type": "code",
   "execution_count": 671,
   "id": "3e496aac",
   "metadata": {},
   "outputs": [],
   "source": [
    "search2c = driver.find_element(By.XPATH,'/html/body/div[1]/div/div[2]/header/div[1]/div/button')\n",
    "search2c.click()"
   ]
  },
  {
   "cell_type": "code",
   "execution_count": 678,
   "id": "06c52e7a",
   "metadata": {},
   "outputs": [],
   "source": [
    "airline8 = []\n",
    "airline8_ = driver.find_elements(By.XPATH,'//p[@class=\"boldFont blackText airlineName\"]')\n",
    "for i in airline8_:\n",
    "    airline8.append(i.text)\n",
    "for _ in range(100):\n",
    "    driver.execute_script(\"window.scrollBy(0,100)\")\n",
    "    \n",
    "# code\n",
    "code8 = []\n",
    "code8_ = driver.find_elements(By.XPATH,'//p[@class=\"fliCode\"]')\n",
    "for j in code8_:\n",
    "    code8.append(j.text)\n",
    "    \n",
    "# date of journey\n",
    "date8 = []\n",
    "for i in range(len(airline8)):\n",
    "    date8.append(int(7))\n",
    "\n",
    "# month of journey\n",
    "month8 = []\n",
    "for j in range(len(airline8)):\n",
    "    month8.append(int(10))\n",
    "    \n",
    "#source\n",
    "source8 = []\n",
    "source8_ = driver.find_elements(By.XPATH,'//div[@class=\"flexOne timeInfoLeft\"]/p[2]/font')\n",
    "for k in source8_:\n",
    "    source8.append(k.text)\n",
    "    \n",
    "# destination\n",
    "dest8 = []\n",
    "dest8_ = driver.find_elements(By.XPATH,'//div[@class=\"flexOne timeInfoRight\"]/p[2]/font')\n",
    "for l in dest8_:\n",
    "    dest8.append(l.text)\n",
    "    \n",
    "# departure time\n",
    "dep_time8 = []\n",
    "dep_time8_ = driver.find_elements(By.XPATH,'//div[@class=\"flexOne timeInfoLeft\"]/p[1]/span')\n",
    "for m in dep_time8_:\n",
    "    dep_time8.append(m.text)\n",
    "    \n",
    "# arrival time\n",
    "arr_time8 = []\n",
    "arr_time8_ = driver.find_elements(By.XPATH,'//div[@class=\"flexOne timeInfoRight\"]/p[1]/span')\n",
    "for n in arr_time8_:\n",
    "    arr_time8.append(n.text)\n",
    "    \n",
    "for o in arr_time8:\n",
    "    if o=='+ 1 DAY':\n",
    "        arr_time8.remove(o)\n",
    "    \n",
    "# flight duration\n",
    "duration8 = []\n",
    "duration8_ = driver.find_elements(By.XPATH,'//div[@class=\"stop-info flexOne\"]/p')\n",
    "for p in duration8_:\n",
    "    duration8.append(p.text)\n",
    "    \n",
    "# layover\n",
    "layover8 = []\n",
    "layover8_ = driver.find_elements(By.XPATH,'//div[@class=\"stop-info flexOne\"]/div/p')\n",
    "for q in layover8_:\n",
    "    layover8.append(q.text)\n",
    "    \n",
    "# price\n",
    "price8 = []\n",
    "price8_ = driver.find_elements(By.XPATH,'//p[@class=\"blackText fontSize18 blackFont white-space-no-wrap\"]')\n",
    "for r in price8_:\n",
    "    price8.append(r.text.split( ))\n",
    "    \n",
    "Price8 = []\n",
    "for s in range(len(price8)):\n",
    "    Price8.append(eval(price8[s][1].replace(',','')))"
   ]
  },
  {
   "cell_type": "code",
   "execution_count": 679,
   "id": "9ec8b62f",
   "metadata": {},
   "outputs": [
    {
     "name": "stdout",
     "output_type": "stream",
     "text": [
      "49 49 49 49 49 49 49 49 49 49 49\n"
     ]
    }
   ],
   "source": [
    "print(len(airline8),len(code8),len(source8),len(dest8),len(dep_time8),len(arr_time8),len(duration8),len(layover8),len(Price8),len(date8),len(month8))"
   ]
  },
  {
   "cell_type": "code",
   "execution_count": 680,
   "id": "07944793",
   "metadata": {},
   "outputs": [],
   "source": [
    "df8 = pd.DataFrame()\n",
    "df8['Airline'] = airline8\n",
    "df8['Airline code'] = code8\n",
    "df8['Date of journey'] = date8\n",
    "df8['Month of journey'] = month8\n",
    "df8['Source'] = source8\n",
    "df8['Destination'] = dest8\n",
    "df8['Departure time'] = dep_time8\n",
    "df8['Arrival time'] = arr_time8\n",
    "df8['Flight duration'] = duration8\n",
    "df8['Type of flight'] = layover8\n",
    "df8['Price'] = Price8"
   ]
  },
  {
   "cell_type": "markdown",
   "id": "84ada2e0",
   "metadata": {},
   "source": [
    "## 8th October"
   ]
  },
  {
   "cell_type": "code",
   "execution_count": 684,
   "id": "d9a661be",
   "metadata": {},
   "outputs": [],
   "source": [
    "date2c = driver.find_element(By.ID,\"departure\")\n",
    "date2c.click()"
   ]
  },
  {
   "cell_type": "code",
   "execution_count": 685,
   "id": "3ea53b2a",
   "metadata": {},
   "outputs": [],
   "source": [
    "dates2c = driver.find_element(By.XPATH,'//div[@class=\"DayPicker-Months\"]/div[1]/div[3]/div[2]/div[7]/div/p[1]')\n",
    "dates2c.click()"
   ]
  },
  {
   "cell_type": "code",
   "execution_count": 686,
   "id": "64566790",
   "metadata": {},
   "outputs": [],
   "source": [
    "search2c = driver.find_element(By.XPATH,'/html/body/div[1]/div/div[2]/header/div[1]/div/button')\n",
    "search2c.click()"
   ]
  },
  {
   "cell_type": "code",
   "execution_count": 689,
   "id": "ff96594c",
   "metadata": {},
   "outputs": [],
   "source": [
    "airline9 = []\n",
    "airline9_ = driver.find_elements(By.XPATH,'//p[@class=\"boldFont blackText airlineName\"]')\n",
    "for i in airline9_:\n",
    "    airline9.append(i.text)\n",
    "for _ in range(100):\n",
    "    driver.execute_script(\"window.scrollBy(0,100)\")\n",
    "    \n",
    "# code\n",
    "code9 = []\n",
    "code9_ = driver.find_elements(By.XPATH,'//p[@class=\"fliCode\"]')\n",
    "for j in code9_:\n",
    "    code9.append(j.text)\n",
    "    \n",
    "# date of journey\n",
    "date9 = []\n",
    "for i in range(len(airline9)):\n",
    "    date9.append(int(8))\n",
    "\n",
    "# month of journey\n",
    "month9 = []\n",
    "for j in range(len(airline9)):\n",
    "    month9.append(int(10))\n",
    "    \n",
    "#source\n",
    "source9 = []\n",
    "source9_ = driver.find_elements(By.XPATH,'//div[@class=\"flexOne timeInfoLeft\"]/p[2]/font')\n",
    "for k in source9_:\n",
    "    source9.append(k.text)\n",
    "    \n",
    "# destination\n",
    "dest9 = []\n",
    "dest9_ = driver.find_elements(By.XPATH,'//div[@class=\"flexOne timeInfoRight\"]/p[2]/font')\n",
    "for l in dest9_:\n",
    "    dest9.append(l.text)\n",
    "    \n",
    "# departure time\n",
    "dep_time9 = []\n",
    "dep_time9_ = driver.find_elements(By.XPATH,'//div[@class=\"flexOne timeInfoLeft\"]/p[1]/span')\n",
    "for m in dep_time9_:\n",
    "    dep_time9.append(m.text)\n",
    "    \n",
    "# arrival time\n",
    "arr_time9 = []\n",
    "arr_time9_ = driver.find_elements(By.XPATH,'//div[@class=\"flexOne timeInfoRight\"]/p[1]/span')\n",
    "for n in arr_time9_:\n",
    "    arr_time9.append(n.text)\n",
    "    \n",
    "for o in arr_time9:\n",
    "    if o=='+ 1 DAY':\n",
    "        arr_time9.remove(o)\n",
    "    \n",
    "# flight duration\n",
    "duration9 = []\n",
    "duration9_ = driver.find_elements(By.XPATH,'//div[@class=\"stop-info flexOne\"]/p')\n",
    "for p in duration9_:\n",
    "    duration9.append(p.text)\n",
    "    \n",
    "# layover\n",
    "layover9 = []\n",
    "layover9_ = driver.find_elements(By.XPATH,'//div[@class=\"stop-info flexOne\"]/div/p')\n",
    "for q in layover9_:\n",
    "    layover9.append(q.text)\n",
    "    \n",
    "# price\n",
    "price9 = []\n",
    "price9_ = driver.find_elements(By.XPATH,'//p[@class=\"blackText fontSize18 blackFont white-space-no-wrap\"]')\n",
    "for r in price9_:\n",
    "    price9.append(r.text.split( ))\n",
    "    \n",
    "Price9 = []\n",
    "for s in range(len(price9)):\n",
    "    Price9.append(eval(price9[s][1].replace(',','')))"
   ]
  },
  {
   "cell_type": "code",
   "execution_count": 690,
   "id": "f9221bb5",
   "metadata": {},
   "outputs": [
    {
     "name": "stdout",
     "output_type": "stream",
     "text": [
      "50 50 50 50 50 50 50 50 50 50 50\n"
     ]
    }
   ],
   "source": [
    "print(len(airline9),len(code9),len(source9),len(dest9),len(dep_time9),len(arr_time9),len(duration9),len(layover9),len(Price9),len(date9),len(month9))"
   ]
  },
  {
   "cell_type": "code",
   "execution_count": 691,
   "id": "9bb9e8bf",
   "metadata": {},
   "outputs": [],
   "source": [
    "df9 = pd.DataFrame()\n",
    "df9['Airline'] = airline9\n",
    "df9['Airline code'] = code9\n",
    "df9['Date of journey'] = date9\n",
    "df9['Month of journey'] = month9\n",
    "df9['Source'] = source9\n",
    "df9['Destination'] = dest9\n",
    "df9['Departure time'] = dep_time9\n",
    "df9['Arrival time'] = arr_time9\n",
    "df9['Flight duration'] = duration9\n",
    "df9['Type of flight'] = layover9\n",
    "df9['Price'] = Price9"
   ]
  },
  {
   "cell_type": "code",
   "execution_count": 692,
   "id": "a715229d",
   "metadata": {},
   "outputs": [
    {
     "data": {
      "text/plain": [
       "(415, 11)"
      ]
     },
     "execution_count": 692,
     "metadata": {},
     "output_type": "execute_result"
    }
   ],
   "source": [
    "Df3 = pd.concat([df1,df2,df3,df4,df5,df6,df7,df8,df9])\n",
    "Df3.shape"
   ]
  },
  {
   "cell_type": "code",
   "execution_count": 695,
   "id": "e386ccfb",
   "metadata": {},
   "outputs": [],
   "source": [
    "Df3.to_csv('Bangalore_to_Delhi.csv')"
   ]
  },
  {
   "cell_type": "code",
   "execution_count": 696,
   "id": "db87ddcc",
   "metadata": {},
   "outputs": [
    {
     "data": {
      "text/plain": [
       "(1213, 11)"
      ]
     },
     "execution_count": 696,
     "metadata": {},
     "output_type": "execute_result"
    }
   ],
   "source": [
    "Df = pd.concat([Df1,Df2,Df3])\n",
    "Df.shape"
   ]
  },
  {
   "cell_type": "code",
   "execution_count": 697,
   "id": "419655ef",
   "metadata": {},
   "outputs": [],
   "source": [
    "Df.to_csv('WebScraping-flight-price-prediction.csv')"
   ]
  },
  {
   "cell_type": "code",
   "execution_count": null,
   "id": "a46ec0fb",
   "metadata": {},
   "outputs": [],
   "source": [
    "driver.close()"
   ]
  }
 ],
 "metadata": {
  "kernelspec": {
   "display_name": "Python 3 (ipykernel)",
   "language": "python",
   "name": "python3"
  },
  "language_info": {
   "codemirror_mode": {
    "name": "ipython",
    "version": 3
   },
   "file_extension": ".py",
   "mimetype": "text/x-python",
   "name": "python",
   "nbconvert_exporter": "python",
   "pygments_lexer": "ipython3",
   "version": "3.9.7"
  }
 },
 "nbformat": 4,
 "nbformat_minor": 5
}
